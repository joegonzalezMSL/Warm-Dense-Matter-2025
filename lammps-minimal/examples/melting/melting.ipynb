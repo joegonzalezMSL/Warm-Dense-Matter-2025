{
  "nbformat": 4,
  "nbformat_minor": 0,
  "metadata": {
    "colab": {
      "provenance": [],
      "authorship_tag": "ABX9TyMHhuAOcUlDpmpxxpt/M3UM"
    },
    "kernelspec": {
      "name": "python3",
      "display_name": "Python 3"
    },
    "language_info": {
      "name": "python"
    }
  },
  "cells": [
    {
      "cell_type": "markdown",
      "source": [
        "# Download precompiled LAMMPS binary for Ubuntu"
      ],
      "metadata": {
        "id": "KHFO8NYFvl7s"
      }
    },
    {
      "cell_type": "code",
      "source": [
        "!apt-get -qq update\n",
        "!apt-get -qq install lammps\n",
        "!apt-get -qq install openkim-models openkim-models-parameterized\n",
        "!pip -qq install py3Dmol\n",
        "!pip install pyscal3\n",
        "!pip install log3\n",
        "\n",
        "# Install micromamba\n",
        "!curl -Ls https://micro.mamba.pm/api/micromamba/linux-64/latest | tar -xvj bin/micromamba\n",
        "\n",
        "# Create an environment named \"lmp\" with LAMMPS + KIM + models\n",
        "!./bin/micromamba create -y -n lmp -c conda-forge lammps kim-api openkim-models"
      ],
      "metadata": {
        "id": "Zqio37TZuXZ_"
      },
      "execution_count": null,
      "outputs": []
    },
    {
      "cell_type": "code",
      "source": [
        "# Use the same micromamba you already installed\n",
        "!./bin/micromamba install -y -n lmp -c conda-forge cmake ninja compilers git openmpi mpi4py kim-api openkim-models\n",
        "!rm -rf lammps\n",
        "!./bin/micromamba run -n lmp bash -lc 'set -e; git clone --depth=1 -b stable https://github.com/lammps/lammps.git && cd lammps && mkdir build && cd build && cmake ../cmake -G Ninja -D CMAKE_BUILD_TYPE=Release -D BUILD_SHARED_LIBS=on -D BUILD_MPI=off -D PKG_OPENMP=on -D PKG_PTM=on -D PKG_KIM=on -D PKG_MANYBODY=on -D CMAKE_PREFIX_PATH=$CONDA_PREFIX && ninja -j2'\n"
      ],
      "metadata": {
        "id": "R-Gpai3BgLNc"
      },
      "execution_count": null,
      "outputs": []
    },
    {
      "cell_type": "code",
      "source": [
        "!./bin/micromamba run -n lmp bash -lc 'set -e; cd lammps/build && cmake ../cmake -G Ninja -D CMAKE_BUILD_TYPE=Release -D BUILD_SHARED_LIBS=on -D BUILD_MPI=off -D PKG_OPENMP=on -D PKG_PTM=on -D PKG_KIM=on -D PKG_MANYBODY=on -D CMAKE_PREFIX_PATH=$CONDA_PREFIX && ninja -j2'\n"
      ],
      "metadata": {
        "id": "fVeaqdAdohYQ"
      },
      "execution_count": null,
      "outputs": []
    },
    {
      "cell_type": "code",
      "source": [
        "!pip -q install py3Dmol\n",
        "!pip -q install pyscal3\n",
        "!pip -q install lammps-logfile"
      ],
      "metadata": {
        "id": "hCduBBLNoCXa",
        "colab": {
          "base_uri": "https://localhost:8080/"
        },
        "outputId": "4fadfea2-f348-4159-9e5d-a47487f76603"
      },
      "execution_count": null,
      "outputs": [
        {
          "output_type": "stream",
          "name": "stdout",
          "text": [
            "  Preparing metadata (setup.py) ... \u001b[?25l\u001b[?25hdone\n",
            "  Building wheel for lammps-logfile (setup.py) ... \u001b[?25l\u001b[?25hdone\n"
          ]
        }
      ]
    },
    {
      "cell_type": "markdown",
      "source": [
        "# Check if lammps was installed\n",
        "Expected: Large-scale Atomic/Molecular Massively Parallel Simulator - DD MMM YYYY - Update X"
      ],
      "metadata": {
        "id": "DYQfZz9nvuGB"
      }
    },
    {
      "cell_type": "code",
      "source": [
        "!./lammps/build/lmp -h | head -n2 |tail -1"
      ],
      "metadata": {
        "id": "3NDIiyMavZt4"
      },
      "execution_count": null,
      "outputs": []
    },
    {
      "cell_type": "markdown",
      "source": [
        "# Create LAMMPS script"
      ],
      "metadata": {
        "id": "3RlRgarRwGCr"
      }
    },
    {
      "cell_type": "code",
      "source": [
        "lmp_input = \"\"\"\n",
        "units       lj\n",
        "atom_style  atomic\n",
        "\n",
        "lattice     fcc 0.8442\n",
        "region      box block 0 10 0 10 0 10\n",
        "create_box  1 box\n",
        "create_atoms 1 box\n",
        "\n",
        "mass        1 1.0\n",
        "velocity    all create 1.44 87287 loop geom\n",
        "\n",
        "pair_style  lj/cut 2.5\n",
        "pair_coeff  1 1 1.0 1.0 2.5\n",
        "\n",
        "neighbor    0.3 bin\n",
        "neigh_modify    delay 5\n",
        "\n",
        "# Add dumping for visualization\n",
        "dump        d all xyz 10 traj.xyz\n",
        "dump_modify d sort id\n",
        "\n",
        "fix         1 all nve\n",
        "run         100\n",
        "\"\"\"\n",
        "\n",
        "with open(\"in.lj\", \"w\") as f:\n",
        "    f.write(lmp_input)\n"
      ],
      "metadata": {
        "id": "Ig7wjg-6LrLb"
      },
      "execution_count": null,
      "outputs": []
    },
    {
      "cell_type": "markdown",
      "source": [
        "# Run simulation"
      ],
      "metadata": {
        "id": "qvGZbC8IOrNZ"
      }
    },
    {
      "cell_type": "code",
      "source": [
        "!lmp -in in.lj"
      ],
      "metadata": {
        "id": "BRCPWciLOuYQ"
      },
      "execution_count": null,
      "outputs": []
    },
    {
      "cell_type": "markdown",
      "source": [
        "# Functions"
      ],
      "metadata": {
        "id": "emf4-mqTNaY3"
      }
    },
    {
      "cell_type": "code",
      "source": [
        "import re\n",
        "import pandas as pd\n",
        "import matplotlib.pyplot as plt\n",
        "import py3Dmol\n",
        "\n",
        "def plot_lammps_thermo(logfile=\"log.lammps\"):\n",
        "    with open(logfile) as f:\n",
        "        lines = [ln.strip() for ln in f]\n",
        "\n",
        "    header_idx = None\n",
        "    for i, ln in enumerate(lines):\n",
        "        if ln.startswith('Step '):\n",
        "            header_idx = i\n",
        "            break\n",
        "\n",
        "    if header_idx is None:\n",
        "        raise ValueError(f\"Couldn't find thermo header 'Step ...' in {logfile}\")\n",
        "\n",
        "    cols = lines[header_idx].split()\n",
        "    data = []\n",
        "    for ln in lines[header_idx + 1:]:\n",
        "        if not ln or ln.startswith('Loop time'):\n",
        "            break\n",
        "        if not re.match(r'^\\d', ln):\n",
        "            continue\n",
        "\n",
        "        parts = ln.split()\n",
        "        if len(parts) != len(cols):\n",
        "            continue\n",
        "        data.append(parts)\n",
        "\n",
        "    df = pd.DataFrame(data, columns=cols)\n",
        "    df = df.apply(pd.to_numeric, errors='coerce').dropna()\n",
        "\n",
        "    ax = df.plot(x='Step', y='Temp')\n",
        "    ax.set_ylabel('Temp')\n",
        "    plt.show()\n",
        "\n",
        "    press_col = df.columns[df.columns.str.contains('Press', case=False)]\n",
        "    if len(press_col):\n",
        "        ax = df.plot(x='Step', y=press_col[0])\n",
        "        ax.set_ylabel('Pressure')\n",
        "        plt.show()\n",
        "\n",
        "    return df\n",
        "\n",
        "def show_xyz(xyz_path, step=0, width=640, height=480, style=\"sphere\"):\n",
        "    # Read frames\n",
        "    with open(xyz_path) as f:\n",
        "        data = f.read().strip().splitlines()\n",
        "    frames = []\n",
        "    i = 0\n",
        "    while i < len(data):\n",
        "        n = int(data[i]); comment = data[i+1] if i+1 < len(data) else \"\"\n",
        "        block = \"\\n\".join(data[i:i+2+n])\n",
        "        frames.append(block)\n",
        "        i += 2 + n\n",
        "\n",
        "    step = max(0, min(step, len(frames)-1))\n",
        "    xyz_block = frames[step]\n",
        "\n",
        "    view = py3Dmol.view(width=width, height=height)\n",
        "    view.addModel(xyz_block, \"xyz\")\n",
        "    if style == \"sphere\":\n",
        "        view.setStyle({\"sphere\": {}})\n",
        "    else:\n",
        "        view.setStyle({\"stick\": {}})\n",
        "    view.zoomTo()\n",
        "    return view\n",
        "\n",
        "def animate_xyz_file(xyz_path, width=640, height=480, style=\"sphere\", interval=50):\n",
        "    with open(xyz_path) as f:\n",
        "        xyz = f.read()\n",
        "\n",
        "    view = py3Dmol.view(width=width, height=height)\n",
        "    # Load all frames\n",
        "    view.addModelsAsFrames(xyz, 'xyz')\n",
        "    if style == \"sphere\":\n",
        "        view.setStyle({'sphere': {}})\n",
        "    else:\n",
        "        view.setStyle({'stick': {}})\n",
        "    view.zoomTo()\n",
        "    view.setFrame(0)\n",
        "    view.animate({'loop': 'forward', 'reps': 0, 'step': 1, 'interval': interval})\n",
        "    return view"
      ],
      "metadata": {
        "id": "D9QejD1fNdF4"
      },
      "execution_count": null,
      "outputs": []
    },
    {
      "cell_type": "markdown",
      "source": [
        "# Post processing"
      ],
      "metadata": {
        "id": "5SZBbHQoOfFJ"
      }
    },
    {
      "cell_type": "code",
      "source": [
        "df = plot_lammps_thermo(\"log.lammps\")"
      ],
      "metadata": {
        "id": "PSJQ1Q_sOd_5"
      },
      "execution_count": null,
      "outputs": []
    },
    {
      "cell_type": "markdown",
      "source": [
        "# Visualization"
      ],
      "metadata": {
        "id": "ifDxN9vbOidg"
      }
    },
    {
      "cell_type": "code",
      "source": [
        "show_xyz(\"traj.xyz\", step=1)"
      ],
      "metadata": {
        "id": "lBOdQKjmM87Y"
      },
      "execution_count": null,
      "outputs": []
    },
    {
      "cell_type": "code",
      "source": [
        "animate_xyz_file('traj.xyz', interval=40)"
      ],
      "metadata": {
        "id": "FNJy7UaFNPUh"
      },
      "execution_count": null,
      "outputs": []
    },
    {
      "cell_type": "code",
      "source": [],
      "metadata": {
        "id": "1Sh8HWSMPUP_"
      },
      "execution_count": null,
      "outputs": []
    },
    {
      "cell_type": "markdown",
      "source": [
        "# Melting"
      ],
      "metadata": {
        "id": "Ym7QFqgdHzLW"
      }
    },
    {
      "cell_type": "code",
      "source": [
        "import numpy as np\n",
        "import pyscal as pc\n",
        "from scipy.optimize import curve_fit\n",
        "import lammps_logfile\n",
        "import matplotlib.pyplot as plt\n",
        "\n",
        "%matplotlib inline"
      ],
      "metadata": {
        "id": "XQKmymK5H0ox"
      },
      "execution_count": 66,
      "outputs": []
    },
    {
      "cell_type": "code",
      "source": [
        "def check_coexistence(ptm_dump_filename, crystal_structure):\n",
        "    sys = pc.System()\n",
        "    sys.read_inputfile(ptm_dump_filename, format='lammps-dump')\n",
        "\n",
        "    sys.calculate_cna()\n",
        "\n",
        "    # Structure codes\n",
        "    codes = np.array([int(getattr(at, \"structure\", 0) or 0) for at in sys.atoms], dtype=int)\n",
        "    counts = {\n",
        "        \"fcc\": int((codes == 1).sum()),\n",
        "        \"hcp\": int((codes == 2).sum()),\n",
        "        \"bcc\": int((codes == 3).sum()),\n",
        "        \"ico\": int((codes == 4).sum()),\n",
        "        \"sc\":  int((codes == 5).sum()),\n",
        "    }\n",
        "    counts[\"other\"] = sys.natoms - sum(counts.values())\n",
        "    counts[\"total\"] = sys.natoms\n",
        "    fraction_solid = counts[crystal_structure.lower()] / counts[\"total\"]\n",
        "    fraction_liquid = counts[\"other\"] / counts[\"total\"]\n",
        "\n",
        "    coexistence = (\n",
        "        (fraction_liquid + fraction_solid > 0.5)\n",
        "        and (0.35 <= fraction_liquid <= 0.65)\n",
        "        and (0.35 <= fraction_solid <= 0.65)\n",
        "    )\n",
        "\n",
        "    return fraction_solid, fraction_liquid, counts, coexistence\n",
        "\n",
        "def check_steady_state(logfile, coex_time, last_frac=0.8):\n",
        "    log = lammps_logfile.File(logfile)\n",
        "    n_runs = log.get_num_partial_logs()\n",
        "    time = np.array(log.get(\"Step\", run_num=n_runs-1))\n",
        "    temperature = np.array(log.get(\"Temp\", run_num=n_runs-1))\n",
        "\n",
        "    idx = np.where(time >= last_frac * coex_time)\n",
        "    y = temperature[idx[0]]\n",
        "    x = time[idx[0]] / 1000\n",
        "\n",
        "    def f(x, A, B):\n",
        "        return A*x + B\n",
        "\n",
        "    popt, _ = curve_fit(f, x, y)\n",
        "    slope, intercept = popt[0], popt[1]\n",
        "\n",
        "    steady_state = (-1 < slope < 1)\n",
        "    melting_temperature = np.average(temperature[idx[0]])\n",
        "    melting_temperature_std = np.std(temperature[idx[0]])\n",
        "    melting_temperature_ci = 1.96 * melting_temperature_std / np.sqrt(len(idx[0]))\n",
        "\n",
        "    return steady_state, slope, intercept, melting_temperature, melting_temperature_ci\n",
        "# ---------- 3) Plotting helper (stitches runs + slope line + coex marker) ----------\n",
        "def plot_temps_with_fit(\n",
        "    logfile,\n",
        "    coex_time,\n",
        "    run1=1, run2=2,\n",
        "    start_ps=1.0,\n",
        "    last_frac=0.8,\n",
        "    timestep_ps=0.001,\n",
        "    show=True\n",
        "):\n",
        "    log = lammps_logfile.File(logfile)\n",
        "\n",
        "    # --- pull runs ---\n",
        "    step1 = np.array(log.get(\"Step\", run_num=run1))\n",
        "    solT1 = np.array(log.get(\"c_Tsolid\", run_num=run1))\n",
        "    liqT1 = np.array(log.get(\"c_Tliquid\", run_num=run1))\n",
        "    temp1 = np.array(log.get(\"Temp\", run_num=run1))\n",
        "\n",
        "    t1 = step1 * timestep_ps  # ps\n",
        "\n",
        "    # second run\n",
        "    step2 = log.get(\"Step\", run_num=run2)\n",
        "    have_run2 = step2 is not None\n",
        "    if have_run2:\n",
        "        step2 = np.array(step2)\n",
        "        solT2 = np.array(log.get(\"c_Tsolid\", run_num=run2))\n",
        "        liqT2 = np.array(log.get(\"c_Tliquid\", run_num=run2))\n",
        "        temp2 = np.array(log.get(\"Temp\", run_num=run2))\n",
        "\n",
        "        # stitch: run2 starts after run1\n",
        "        offset_steps = step1[-1] + 1\n",
        "        t2 = (step2 + offset_steps) * timestep_ps\n",
        "        coex_x = offset_steps * timestep_ps  # vertical marker at coex start\n",
        "\n",
        "        t_all   = np.concatenate([t1, t2])\n",
        "        sol_all = np.concatenate([solT1, solT2])\n",
        "        liq_all = np.concatenate([liqT1, liqT2])\n",
        "        T_all   = np.concatenate([temp1, temp2])\n",
        "        t0_ps   = coex_x\n",
        "    else:\n",
        "        t_all, sol_all, liq_all, T_all = t1, solT1, liqT1, temp1\n",
        "        coex_x = t1[-1]\n",
        "        t0_ps  = 0.0\n",
        "\n",
        "    # --- slope & intercept from last run tail (so we can draw the line) ---\n",
        "    steady_state, slope, intercept, melt_T, melt_ci = check_steady_state(\n",
        "        logfile, coex_time, last_frac=last_frac\n",
        "    )\n",
        "\n",
        "    # tail start (absolute time) for the last run:\n",
        "    # after stitching, tail of last run begins at: coex_x + last_frac * coex_time * timestep_ps\n",
        "    tail_start_ps = coex_x + last_frac * coex_time * timestep_ps\n",
        "    tail_end_ps   = t_all[-1]\n",
        "    x_fit = np.array([tail_start_ps, tail_end_ps])\n",
        "    y_fit = slope * (x_fit - t0_ps) + intercept\n",
        "\n",
        "    # --- plot from start_ps onward ---\n",
        "    mask = t_all >= start_ps\n",
        "    plt.figure(figsize=(9, 5))\n",
        "    plt.plot(t_all[mask], sol_all[mask], label=\"Tsolid\")\n",
        "    plt.plot(t_all[mask], liq_all[mask], label=\"Tliquid\")\n",
        "    plt.plot(t_all[mask],  T_all[mask],  label=\"Temp\")\n",
        "\n",
        "    # slope line over the tail\n",
        "    plt.plot(x_fit, y_fit, 'k--', lw=1.5, label=f\"tail fit: slope={slope:.3f} K/ps\")\n",
        "\n",
        "    # vertical line at coex start\n",
        "    #plt.axvline(coex_x, color='k', linestyle=':', lw=1.2)\n",
        "    #plt.text(coex_x, max(np.max(sol_all[mask]), np.max(liq_all[mask]), np.max(T_all[mask])),\n",
        "    #         \"Coexistence Run Starts\", rotation=90, va=\"bottom\", ha=\"left\", fontsize='large')\n",
        "    ax = plt.gca()\n",
        "    ax.axvline(coex_x, color='k', linestyle=':', lw=1.2)\n",
        "    ax.annotate(\n",
        "    \"Coexistence Run Starts\",\n",
        "    xy=(coex_x, 0.5), xycoords=ax.get_xaxis_transform(),\n",
        "    xytext=(-6, 0), textcoords='offset points',\n",
        "    rotation=90, ha='right', va='center', fontsize='large',\n",
        "    bbox=dict(boxstyle='round,pad=0.2', fc='white', ec='none', alpha=0.5),\n",
        "    )\n",
        "\n",
        "    plt.xlabel(\"Time (ps)\", size='xx-large')\n",
        "    plt.ylabel(\"Temperature (K)\", size='xx-large')\n",
        "    plt.xticks(size='x-large'); plt.yticks(size='x-large')\n",
        "    plt.legend()\n",
        "    plt.tight_layout()\n",
        "    if show:\n",
        "        plt.show()\n",
        "\n",
        "    return {\n",
        "        \"steady_state\": steady_state,\n",
        "        \"slope\": slope,\n",
        "        \"intercept\": intercept,\n",
        "        \"melting_temperature\": melt_T,\n",
        "        \"melting_temperature_ci\": melt_ci,\n",
        "        \"coex_x_ps\": coex_x\n",
        "    }"
      ],
      "metadata": {
        "id": "qR8HiUNXB-wZ"
      },
      "execution_count": 77,
      "outputs": []
    },
    {
      "cell_type": "code",
      "source": [
        "inputs = {\n",
        "    \"crystal_structure\": \"fcc\",         # LAMMPS lattice style: fcc, bcc, sc, diamond, etc.\n",
        "    \"lattice_parameter\": 3.615,         # Lattice constant (Å)\n",
        "    \"mass\": 63.546,                     # Mass of your atoms\n",
        "    \"cell_reps\": 6,                     # Number of unit cells along y/z\n",
        "    \"cell_x\": 12,                       # Number of unit cells along x direction\n",
        "    \"Tsolid\": 800.0,                   # Target solid temperature (K)\n",
        "    \"Tliquid\": 1500.0,                  # Target liquid temperature (K)\n",
        "    \"seed\": 12345,                      # Random seed for velocity generation\n",
        "    \"equilibration_time\": 200,        # Steps for equilibration\n",
        "    \"coex_time\": 2000,                 # Steps for production run\n",
        "    \"last_frac\": 0.8                    # fraction of the coexistence run to use to check for convergence\n",
        "}\n"
      ],
      "metadata": {
        "id": "lUxzOicKKwrz"
      },
      "execution_count": 146,
      "outputs": []
    },
    {
      "cell_type": "code",
      "source": [
        "input_file = ''' #LAMMPS input file\n",
        "boundary        p p p\n",
        "units           metal\n",
        "atom_style      atomic\n",
        "\n",
        "\n",
        "#Atom definition:\n",
        "lattice         {crystal_structure} {lattice_parameter}\n",
        "region          box2 block 0 {cell_x} 0 {cell_reps} 0 {cell_reps}\n",
        "create_box      1 box2\n",
        "create_atoms    1 box\n",
        "mass            1 {mass}\n",
        "\n",
        "# Regions and groups\n",
        "region          Rsolid block 0 {cell_reps} INF INF INF INF\n",
        "group           Gsolid region Rsolid\n",
        "region          Rliquid block {cell_reps} {cell_x} INF INF INF INF\n",
        "group           Gliquid region Rliquid\n",
        "\n",
        "#Settings\n",
        "pair_style      kim EAM_Dynamo_MishinMehlPapaconstantopoulos_2001_Cu__MO_346334655118_005\n",
        "pair_coeff      * * Cu\n",
        "#pair_style      kim EAM_Dynamo_Mishin_Al_1999_Al__MO_000000043348_000\n",
        "#pair_coeff     * * Al\n",
        "\n",
        "neighbor        3.0 bin\n",
        "neigh_modify    every 1 delay 0 check yes\n",
        "\n",
        "compute         Tsolid Gsolid temp\n",
        "compute         Tliquid Gliquid temp\n",
        "\n",
        "timestep        0.001 # 1fs\n",
        "\n",
        "thermo          100\n",
        "thermo_style    custom step atoms enthalpy etotal pe ke temp c_Tsolid c_Tliquid press vol pxx pyy pzz pxy pxz pyz lx ly lz\n",
        "\n",
        "# Initial structure relax\n",
        "fix             relax all box/relax aniso 0.0\n",
        "minimize        1e-10 1e-12 100000 1000000\n",
        "unfix           relax\n",
        "\n",
        "# Assign velocities\n",
        "velocity        Gsolid create {Tsolid} {seed} dist gaussian mom yes rot yes\n",
        "velocity        Gliquid create {Tliquid} {seed} dist gaussian mom yes rot yes\n",
        "\n",
        "reset_timestep  0\n",
        "\n",
        "# Equilibrarion\n",
        "fix             nph_all all nph aniso 1.01 1.01 1.0\n",
        "fix             temp_s Gsolid temp/berendsen {Tsolid} {Tsolid} 0.1\n",
        "fix             temp_l Gliquid temp/berendsen {Tliquid} {Tliquid} 0.1\n",
        "run             {equilibration_time} #100000\n",
        "\n",
        "unfix           nph_all\n",
        "unfix           temp_s\n",
        "unfix           temp_l\n",
        "\n",
        "reset_timestep  0\n",
        "\n",
        "# --- PTM classification (per-atom) ---\n",
        "compute     ptm all ptm/atom structures default   # or 'all' for more types\n",
        "\n",
        "# booleans per-atom (1 if type matches)\n",
        "variable    is_fcc   atom (c_ptm==1)\n",
        "variable    is_hcp   atom (c_ptm==2)\n",
        "variable    is_bcc   atom (c_ptm==3)\n",
        "variable    is_ico   atom (c_ptm==4)\n",
        "variable    is_sc    atom (c_ptm==5)\n",
        "variable    is_other atom (c_ptm==0)              # treat as \"liquid/disordered\"\n",
        "\n",
        "# reduce to global counts\n",
        "compute     n_fcc   all reduce sum v_is_fcc\n",
        "compute     n_hcp   all reduce sum v_is_hcp\n",
        "compute     n_bcc   all reduce sum v_is_bcc\n",
        "compute     n_ico   all reduce sum v_is_ico\n",
        "compute     n_sc    all reduce sum v_is_sc\n",
        "compute     n_other all reduce sum v_is_other\n",
        "\n",
        "# fractions\n",
        "variable    n_tot   equal count(all)\n",
        "variable    f_solid equal (c_n_fcc+c_n_hcp+c_n_bcc+c_n_sc)/v_n_tot\n",
        "variable    f_liq   equal c_n_other/v_n_tot\n",
        "\n",
        "# put in thermo\n",
        "thermo_style custom step temp c_Tsolid c_Tliquid v_f_solid v_f_liq\n",
        "\n",
        "# Setup dumps\n",
        "dump            d1 all image 1000 main.*.ppm type type view 90 90\n",
        "dump            d2 all custom 1000 ptm.*.dump id type x y z vx vy vz\n",
        "#dump            d3 all custom 1000 all_frames.dump id type x y z vx vy vz xu yu zu\n",
        "#dump_modify     d3 sort id\n",
        "\n",
        "fix             coex all nph aniso 1.01 1.01 1.0\n",
        "run             {coex_time}\n",
        "'''\n",
        "\n",
        "with open('lmpmelt.in', 'w') as f:\n",
        "  f.write(input_file.format(**inputs))\n",
        "f.close()"
      ],
      "metadata": {
        "id": "4lS56MFrH3cn"
      },
      "execution_count": 147,
      "outputs": []
    },
    {
      "cell_type": "code",
      "source": [
        "input_file = ''' #LAMMPS input file\n",
        "boundary        p p p\n",
        "units           metal\n",
        "atom_style      atomic\n",
        "\n",
        "\n",
        "#Atom definition:\n",
        "lattice         {crystal_structure} {lattice_parameter}\n",
        "region          box2 block 0 {cell_x} 0 {cell_reps} 0 {cell_reps}\n",
        "create_box      1 box2\n",
        "create_atoms    1 box\n",
        "mass            1 {mass}\n",
        "\n",
        "# Regions and groups\n",
        "region          Rsolid block 0 {cell_reps} INF INF INF INF\n",
        "group           Gsolid region Rsolid\n",
        "region          Rliquid block {cell_reps} {cell_x} INF INF INF INF\n",
        "group           Gliquid region Rliquid\n",
        "\n",
        "#Settings\n",
        "pair_style      kim EAM_Dynamo_MishinMehlPapaconstantopoulos_2001_Cu__MO_346334655118_005\n",
        "pair_coeff      * * Cu\n",
        "#pair_style      kim EAM_Dynamo_Mishin_Al_1999_Al__MO_000000043348_000\n",
        "#pair_coeff     * * Al\n",
        "\n",
        "neighbor        3.0 bin\n",
        "neigh_modify    every 1 delay 0 check yes\n",
        "\n",
        "compute         Tsolid Gsolid temp\n",
        "compute         Tliquid Gliquid temp\n",
        "\n",
        "timestep        0.001 # 1fs\n",
        "\n",
        "thermo          100\n",
        "thermo_style    custom step atoms enthalpy etotal pe ke temp c_Tsolid c_Tliquid press vol pxx pyy pzz pxy pxz pyz lx ly lz\n",
        "\n",
        "# Initial structure relax\n",
        "fix             relax all box/relax aniso 0.0\n",
        "minimize        1e-10 1e-12 100000 1000000\n",
        "unfix           relax\n",
        "\n",
        "# Assign velocities\n",
        "velocity        Gsolid create {Tsolid} {seed} dist gaussian mom yes rot yes\n",
        "velocity        Gliquid create {Tliquid} {seed} dist gaussian mom yes rot yes\n",
        "\n",
        "reset_timestep  0\n",
        "\n",
        "# Equilibration\n",
        "dump            dequil all custom 1000 eq.*.dump id type x y z vx vy vz\n",
        "\n",
        "fix             nph_all all nph aniso 1.01 1.01 1.0\n",
        "fix             temp_s Gsolid temp/berendsen {Tsolid} {Tsolid} 0.1\n",
        "fix             temp_l Gliquid temp/berendsen {Tliquid} {Tliquid} 0.1\n",
        "\n",
        "run             {equilibration_time}\n",
        "\n",
        "unfix           nph_all\n",
        "unfix           temp_s\n",
        "unfix           temp_l\n",
        "\n",
        "undump          dequil\n",
        "\n",
        "reset_timestep  0\n",
        "\n",
        "# Setup dumps\n",
        "variable        phase atom \"1*ingroup(Gsolid)+2*ingroup(Gliquid)\"\n",
        "dump            d_im all image 1000 im.*.ppm type v_phase view 90 90\n",
        "dump            d_ts all custom 1000 ts.*.dump id type x y z vx vy vz\n",
        "\n",
        "fix             coex all nph aniso 1.01 1.01 1.0\n",
        "run             {coex_time}\n",
        "'''\n",
        "\n",
        "with open('lmpmelt.in', 'w') as f:\n",
        "  f.write(input_file.format(**inputs))\n",
        "f.close()"
      ],
      "metadata": {
        "id": "tV0_xPRPvIkW"
      },
      "execution_count": 148,
      "outputs": []
    },
    {
      "cell_type": "code",
      "source": [
        "!export OMP_NUM_THREADS=2\n",
        "!./bin/micromamba run -n lmp env OMP_NUM_THREADS=2 lmp -in lmpmelt.in"
      ],
      "metadata": {
        "colab": {
          "base_uri": "https://localhost:8080/"
        },
        "id": "X7Kc47PxR6eZ",
        "outputId": "3db2dd32-8def-4676-ccb1-8166f0ddf9b5"
      },
      "execution_count": 149,
      "outputs": [
        {
          "output_type": "stream",
          "name": "stdout",
          "text": [
            "LAMMPS (29 Aug 2024)\n",
            "  using 2 OpenMP thread(s) per MPI task\n",
            "Lattice spacing in x,y,z = 3.615 3.615 3.615\n",
            "Created orthogonal box = (0 0 0) to (43.38 21.69 21.69)\n",
            "  1 by 1 by 1 MPI processor grid\n",
            "Created 1728 atoms\n",
            "  using lattice units in orthogonal box = (0 0 0) to (43.38 21.69 21.69)\n",
            "  create_atoms CPU = 0.001 seconds\n",
            "936 atoms in group Gsolid\n",
            "864 atoms in group Gliquid\n",
            "\n",
            "CITE-CITE-CITE-CITE-CITE-CITE-CITE-CITE-CITE-CITE-CITE-CITE-CITE\n",
            "\n",
            "Your simulation uses code contributions which should be cited:\n",
            "- OpenKIM Project: doi:10.1007/s11837-011-0102-6\n",
            "- OpenKIM potential: https://openkim.org/cite/MO_346334655118_005#item-citation\n",
            "The log file lists these citations in BibTeX format.\n",
            "\n",
            "CITE-CITE-CITE-CITE-CITE-CITE-CITE-CITE-CITE-CITE-CITE-CITE-CITE\n",
            "\n",
            "Generated 0 of 0 mixed pair_coeff terms from geometric mixing rule\n",
            "Neighbor list info ...\n",
            "  update: every = 1 steps, delay = 0 steps, check = yes\n",
            "  max neighbors/atom: 2000, page size: 100000\n",
            "  master list distance cutoff = 8.506786\n",
            "  ghost atom cutoff = 8.506786\n",
            "  binsize = 4.253393, bins = 11 6 6\n",
            "  1 neighbor lists, perpetual/occasional/extra = 1 0 0\n",
            "  (1) pair kim, perpetual\n",
            "      attributes: full, newton off\n",
            "      pair build: full/bin/atomonly\n",
            "      stencil: full/bin/3d\n",
            "      bin: standard\n",
            "Setting up cg style minimization ...\n",
            "  Unit style    : metal\n",
            "  Current step  : 0\n",
            "WARNING: Energy due to 3 extra global DOFs will be included in minimizer energies\n",
            " (src/min.cpp:219)\n",
            "Per MPI rank memory allocation (min/avg/max) = 6.624 | 6.624 | 6.624 Mbytes\n",
            "   Step        Atoms       Enthalpy        TotEng         PotEng         KinEng          Temp         c_Tsolid      c_Tliquid        Press          Volume          Pxx            Pyy            Pzz            Pxy            Pxz            Pyz             Lx             Ly             Lz      \n",
            "         0        1728  -6117.1191     -6117.1199     -6117.1199      0              0              0              0              0.06684548     20408.386      0.06684548     0.06684548     0.06684548     1.3430648e-12 -3.5116881e-12  1.3106525e-12  43.38          21.69          21.69        \n",
            "         1        1728  -6117.1199     -6117.1199     -6117.1199      0              0              0              0             -1.9572205e-05  20408.387     -1.9572226e-05 -1.9572196e-05 -1.9572193e-05  1.7023229e-13 -2.4442634e-12  8.0594778e-13  43.380001      21.69          21.69        \n",
            "Loop time of 0.0183135 on 2 procs for 1 steps with 1728 atoms\n",
            "\n",
            "124.7% CPU use with 1 MPI tasks x 2 OpenMP threads\n",
            "\n",
            "Minimization stats:\n",
            "  Stopping criterion = energy tolerance\n",
            "  Energy initial, next-to-last, final = \n",
            "     -6117.11994536197  -6117.11994536197  -6117.11994535632\n",
            "  Force two-norm initial, final = 0.0014747927 4.3181595e-07\n",
            "  Force max component initial, final = 0.00085147195 2.4930933e-07\n",
            "  Final line search alpha, max atom move = 0.11744368 2.9279805e-08\n",
            "  Iterations, force evaluations = 1 2\n",
            "\n",
            "MPI task timing breakdown:\n",
            "Section |  min time  |  avg time  |  max time  |%varavg| %total\n",
            "---------------------------------------------------------------\n",
            "Pair    | 0.017657   | 0.017657   | 0.017657   |   0.0 | 96.42\n",
            "Neigh   | 0          | 0          | 0          |   0.0 |  0.00\n",
            "Comm    | 9.5542e-05 | 9.5542e-05 | 9.5542e-05 |   0.0 |  0.52\n",
            "Output  | 0          | 0          | 0          |   0.0 |  0.00\n",
            "Modify  | 0          | 0          | 0          |   0.0 |  0.00\n",
            "Other   |            | 0.0005607  |            |       |  3.06\n",
            "\n",
            "Nlocal:           1728 ave        1728 max        1728 min\n",
            "Histogram: 1 0 0 0 0 0 0 0 0 0\n",
            "Nghost:           5549 ave        5549 max        5549 min\n",
            "Histogram: 1 0 0 0 0 0 0 0 0 0\n",
            "Neighs:              0 ave           0 max           0 min\n",
            "Histogram: 1 0 0 0 0 0 0 0 0 0\n",
            "FullNghs:       387072 ave      387072 max      387072 min\n",
            "Histogram: 1 0 0 0 0 0 0 0 0 0\n",
            "\n",
            "Total # of neighbors = 387072\n",
            "Ave neighs/atom = 224\n",
            "Neighbor list builds = 0\n",
            "Dangerous builds = 0\n",
            "Generated 0 of 0 mixed pair_coeff terms from geometric mixing rule\n",
            "Neighbor list info ...\n",
            "  update: every = 1 steps, delay = 0 steps, check = yes\n",
            "  max neighbors/atom: 2000, page size: 100000\n",
            "  master list distance cutoff = 8.506786\n",
            "  ghost atom cutoff = 8.506786\n",
            "  binsize = 4.253393, bins = 11 6 6\n",
            "  1 neighbor lists, perpetual/occasional/extra = 1 0 0\n",
            "  (1) pair kim, perpetual\n",
            "      attributes: full, newton off\n",
            "      pair build: full/bin/atomonly\n",
            "      stencil: full/bin/3d\n",
            "      bin: standard\n",
            "Setting up Verlet run ...\n",
            "  Unit style    : metal\n",
            "  Current step  : 0\n",
            "  Time step     : 0.001\n",
            "Per MPI rank memory allocation (min/avg/max) = 5.499 | 5.499 | 5.499 Mbytes\n",
            "   Step        Atoms       Enthalpy        TotEng         PotEng         KinEng          Temp         c_Tsolid      c_Tliquid        Press          Volume          Pxx            Pyy            Pzz            Pxy            Pxz            Pyz             Lx             Ly             Lz      \n",
            "         0        1728  -5688.4862     -5859.9397     -6117.1199      257.18024      1152.0747      849.17781      1500           13460.092      20408.387      13574.372      13265.621      13540.283      402.73425      260.18699      144.84534      43.380001      21.69          21.69        \n",
            "       100        1728  -5612.7169     -5763.004      -5914.3253      151.32135      677.86503      498.53377      899.32744      11403.915      21114.361      10302.023      12104.028      11805.695      2337.8822     -748.64412      203.59115      43.876525      21.938293      21.935265    \n",
            "       200        1728  -5920.7796     -5688.4338     -5887.6927      199.25892      892.60802      684.14223      1135.9707     -17155.497      21699.113     -15816.263     -17687.204     -17963.023      925.99883     -467.53471     -424.04474      44.279158      22.140876      22.133385    \n",
            "Loop time of 1.643 on 2 procs for 200 steps with 1728 atoms\n",
            "\n",
            "Performance: 10.517 ns/day, 2.282 hours/ns, 121.729 timesteps/s, 210.347 katom-step/s\n",
            "125.2% CPU use with 1 MPI tasks x 2 OpenMP threads\n",
            "\n",
            "MPI task timing breakdown:\n",
            "Section |  min time  |  avg time  |  max time  |%varavg| %total\n",
            "---------------------------------------------------------------\n",
            "Pair    | 1.5246     | 1.5246     | 1.5246     |   0.0 | 92.80\n",
            "Neigh   | 0.011758   | 0.011758   | 0.011758   |   0.0 |  0.72\n",
            "Comm    | 0.0079367  | 0.0079367  | 0.0079367  |   0.0 |  0.48\n",
            "Output  | 0.00020148 | 0.00020148 | 0.00020148 |   0.0 |  0.01\n",
            "Modify  | 0.093423   | 0.093423   | 0.093423   |   0.0 |  5.69\n",
            "Other   |            | 0.005057   |            |       |  0.31\n",
            "\n",
            "Nlocal:           1728 ave        1728 max        1728 min\n",
            "Histogram: 1 0 0 0 0 0 0 0 0 0\n",
            "Nghost:           5549 ave        5549 max        5549 min\n",
            "Histogram: 1 0 0 0 0 0 0 0 0 0\n",
            "Neighs:              0 ave           0 max           0 min\n",
            "Histogram: 1 0 0 0 0 0 0 0 0 0\n",
            "FullNghs:       350898 ave      350898 max      350898 min\n",
            "Histogram: 1 0 0 0 0 0 0 0 0 0\n",
            "\n",
            "Total # of neighbors = 350898\n",
            "Ave neighs/atom = 203.06597\n",
            "Neighbor list builds = 1\n",
            "Dangerous builds = 0\n",
            "Generated 0 of 0 mixed pair_coeff terms from geometric mixing rule\n",
            "Neighbor list info ...\n",
            "  update: every = 1 steps, delay = 0 steps, check = yes\n",
            "  max neighbors/atom: 2000, page size: 100000\n",
            "  master list distance cutoff = 8.506786\n",
            "  ghost atom cutoff = 8.506786\n",
            "  binsize = 4.253393, bins = 11 6 6\n",
            "  1 neighbor lists, perpetual/occasional/extra = 1 0 0\n",
            "  (1) pair kim, perpetual\n",
            "      attributes: full, newton off\n",
            "      pair build: full/bin/atomonly\n",
            "      stencil: full/bin/3d\n",
            "      bin: standard\n",
            "Setting up Verlet run ...\n",
            "  Unit style    : metal\n",
            "  Current step  : 0\n",
            "  Time step     : 0.001\n",
            "Per MPI rank memory allocation (min/avg/max) = 5.502 | 5.502 | 5.502 Mbytes\n",
            "   Step        Atoms       Enthalpy        TotEng         PotEng         KinEng          Temp         c_Tsolid      c_Tliquid        Press          Volume          Pxx            Pyy            Pzz            Pxy            Pxz            Pyz             Lx             Ly             Lz      \n",
            "         0        1728  -5920.7796     -5688.4338     -5887.6927      199.25892      892.60802      684.14223      1135.9707     -17155.497      21699.113     -15816.263     -17687.204     -17963.023      925.99883     -467.53471     -424.04474      44.279158      22.140876      22.133385    \n",
            "ERROR: Variable phase: Invalid math/group/special/feature function 'ingroup()' in variable formula (src/variable.cpp:2314)\n",
            "Last command: run             2000\n"
          ]
        }
      ]
    },
    {
      "cell_type": "code",
      "source": [
        "# Coexistence\n",
        "#dump_filename = f\"ts.0.dump\"\n",
        "dump_filename = f\"ts.{inputs['coex_time']}.dump\"\n",
        "fraction_solid, fraction_liquid, counts, coexistence = check_coexistence(\n",
        "    dump_filename, inputs[\"crystal_structure\"]\n",
        ")\n",
        "\n",
        "# Steady state + plot (from 1 ps)\n",
        "inputs['last_frac'] = 0.7\n",
        "res = plot_temps_with_fit(\n",
        "    \"log.lammps\",\n",
        "    coex_time=inputs[\"coex_time\"],\n",
        "    run1=1, run2=2,\n",
        "    start_ps=1.0,\n",
        "    last_frac=inputs['last_frac'],\n",
        "    timestep_ps=0.001\n",
        ")\n",
        "\n",
        "successful = res[\"steady_state\"] and coexistence\n",
        "print(\n",
        "    \"=== Coexistence Summary ===\\n\"\n",
        "    f\"Melting temperature           : {res['melting_temperature']:.1f} ± {res['melting_temperature_ci']:.1f} K (95% CI)\\n\"\n",
        "    f\"Steady state (tail>{inputs['last_frac']:.1f} coex)  : {res['steady_state']}  (slope={res['slope']:.3f} K/ps)\\n\"\n",
        "    f\"Coexistence check             : {coexistence} (solid={fraction_solid:.3f}, liquid={fraction_liquid:.3f})\\n\"\n",
        "    f\"Successful (Steady & Coex)    : {successful}\"\n",
        ")\n",
        "\n"
      ],
      "metadata": {
        "id": "NKBmbRLw4afN",
        "colab": {
          "base_uri": "https://localhost:8080/",
          "height": 356
        },
        "outputId": "dda91972-6a6f-4ef6-fbab-c922450980c0"
      },
      "execution_count": 134,
      "outputs": [
        {
          "output_type": "error",
          "ename": "FileNotFoundError",
          "evalue": "Filename ts.2000.dump not found",
          "traceback": [
            "\u001b[0;31m---------------------------------------------------------------------------\u001b[0m",
            "\u001b[0;31mFileNotFoundError\u001b[0m                         Traceback (most recent call last)",
            "\u001b[0;32m/tmp/ipython-input-4065309978.py\u001b[0m in \u001b[0;36m<cell line: 0>\u001b[0;34m()\u001b[0m\n\u001b[1;32m      2\u001b[0m \u001b[0;31m#dump_filename = f\"ts.0.dump\"\u001b[0m\u001b[0;34m\u001b[0m\u001b[0;34m\u001b[0m\u001b[0m\n\u001b[1;32m      3\u001b[0m \u001b[0mdump_filename\u001b[0m \u001b[0;34m=\u001b[0m \u001b[0;34mf\"ts.{inputs['coex_time']}.dump\"\u001b[0m\u001b[0;34m\u001b[0m\u001b[0;34m\u001b[0m\u001b[0m\n\u001b[0;32m----> 4\u001b[0;31m fraction_solid, fraction_liquid, counts, coexistence = check_coexistence(\n\u001b[0m\u001b[1;32m      5\u001b[0m     \u001b[0mdump_filename\u001b[0m\u001b[0;34m,\u001b[0m \u001b[0minputs\u001b[0m\u001b[0;34m[\u001b[0m\u001b[0;34m\"crystal_structure\"\u001b[0m\u001b[0;34m]\u001b[0m\u001b[0;34m\u001b[0m\u001b[0;34m\u001b[0m\u001b[0m\n\u001b[1;32m      6\u001b[0m )\n",
            "\u001b[0;32m/tmp/ipython-input-202266622.py\u001b[0m in \u001b[0;36mcheck_coexistence\u001b[0;34m(ptm_dump_filename, crystal_structure)\u001b[0m\n\u001b[1;32m      1\u001b[0m \u001b[0;32mdef\u001b[0m \u001b[0mcheck_coexistence\u001b[0m\u001b[0;34m(\u001b[0m\u001b[0mptm_dump_filename\u001b[0m\u001b[0;34m,\u001b[0m \u001b[0mcrystal_structure\u001b[0m\u001b[0;34m)\u001b[0m\u001b[0;34m:\u001b[0m\u001b[0;34m\u001b[0m\u001b[0;34m\u001b[0m\u001b[0m\n\u001b[1;32m      2\u001b[0m     \u001b[0msys\u001b[0m \u001b[0;34m=\u001b[0m \u001b[0mpc\u001b[0m\u001b[0;34m.\u001b[0m\u001b[0mSystem\u001b[0m\u001b[0;34m(\u001b[0m\u001b[0;34m)\u001b[0m\u001b[0;34m\u001b[0m\u001b[0;34m\u001b[0m\u001b[0m\n\u001b[0;32m----> 3\u001b[0;31m     \u001b[0msys\u001b[0m\u001b[0;34m.\u001b[0m\u001b[0mread_inputfile\u001b[0m\u001b[0;34m(\u001b[0m\u001b[0mptm_dump_filename\u001b[0m\u001b[0;34m,\u001b[0m \u001b[0mformat\u001b[0m\u001b[0;34m=\u001b[0m\u001b[0;34m'lammps-dump'\u001b[0m\u001b[0;34m)\u001b[0m\u001b[0;34m\u001b[0m\u001b[0;34m\u001b[0m\u001b[0m\n\u001b[0m\u001b[1;32m      4\u001b[0m \u001b[0;34m\u001b[0m\u001b[0m\n\u001b[1;32m      5\u001b[0m     \u001b[0msys\u001b[0m\u001b[0;34m.\u001b[0m\u001b[0mcalculate_cna\u001b[0m\u001b[0;34m(\u001b[0m\u001b[0;34m)\u001b[0m\u001b[0;34m\u001b[0m\u001b[0;34m\u001b[0m\u001b[0m\n",
            "\u001b[0;32m/usr/local/lib/python3.11/dist-packages/pyscal/core.py\u001b[0m in \u001b[0;36mread_inputfile\u001b[0;34m(self, filename, format, compressed, customkeys)\u001b[0m\n\u001b[1;32m    212\u001b[0m \u001b[0;34m\u001b[0m\u001b[0m\n\u001b[1;32m    213\u001b[0m         \"\"\"\n\u001b[0;32m--> 214\u001b[0;31m         atoms, box = ptp.read_file(filename, format=format, \n\u001b[0m\u001b[1;32m    215\u001b[0m                                     \u001b[0mcompressed\u001b[0m\u001b[0;34m=\u001b[0m\u001b[0mcompressed\u001b[0m\u001b[0;34m,\u001b[0m \u001b[0mcustomkeys\u001b[0m\u001b[0;34m=\u001b[0m\u001b[0mcustomkeys\u001b[0m\u001b[0;34m,\u001b[0m\u001b[0;34m\u001b[0m\u001b[0;34m\u001b[0m\u001b[0m\n\u001b[1;32m    216\u001b[0m                                         )\n",
            "\u001b[0;32m/usr/local/lib/python3.11/dist-packages/pyscal/traj_process.py\u001b[0m in \u001b[0;36mread_file\u001b[0;34m(filename, format, compressed, customkeys)\u001b[0m\n\u001b[1;32m     55\u001b[0m \u001b[0;34m\u001b[0m\u001b[0m\n\u001b[1;32m     56\u001b[0m     \u001b[0;32mif\u001b[0m \u001b[0mformat\u001b[0m\u001b[0;34m==\u001b[0m\u001b[0;34m'lammps-dump'\u001b[0m\u001b[0;34m:\u001b[0m\u001b[0;34m\u001b[0m\u001b[0;34m\u001b[0m\u001b[0m\n\u001b[0;32m---> 57\u001b[0;31m         \u001b[0matoms\u001b[0m\u001b[0;34m,\u001b[0m \u001b[0mbox\u001b[0m\u001b[0;34m,\u001b[0m \u001b[0mis_triclinic\u001b[0m \u001b[0;34m=\u001b[0m \u001b[0mptlammps\u001b[0m\u001b[0;34m.\u001b[0m\u001b[0mread_snap\u001b[0m\u001b[0;34m(\u001b[0m\u001b[0mfilename\u001b[0m\u001b[0;34m,\u001b[0m \u001b[0mcompressed\u001b[0m\u001b[0;34m=\u001b[0m\u001b[0mcompressed\u001b[0m\u001b[0;34m,\u001b[0m \u001b[0mcheck_triclinic\u001b[0m\u001b[0;34m=\u001b[0m\u001b[0;32mTrue\u001b[0m\u001b[0;34m,\u001b[0m \u001b[0mcustomkeys\u001b[0m\u001b[0;34m=\u001b[0m\u001b[0mcustomkeys\u001b[0m\u001b[0;34m)\u001b[0m\u001b[0;34m\u001b[0m\u001b[0;34m\u001b[0m\u001b[0m\n\u001b[0m\u001b[1;32m     58\u001b[0m     \u001b[0;32melif\u001b[0m \u001b[0mformat\u001b[0m \u001b[0;34m==\u001b[0m \u001b[0;34m'ase'\u001b[0m\u001b[0;34m:\u001b[0m\u001b[0;34m\u001b[0m\u001b[0;34m\u001b[0m\u001b[0m\n\u001b[1;32m     59\u001b[0m         \u001b[0matoms\u001b[0m\u001b[0;34m,\u001b[0m \u001b[0mbox\u001b[0m \u001b[0;34m=\u001b[0m \u001b[0mptase\u001b[0m\u001b[0;34m.\u001b[0m\u001b[0mread_snap\u001b[0m\u001b[0;34m(\u001b[0m\u001b[0mfilename\u001b[0m\u001b[0;34m)\u001b[0m\u001b[0;34m\u001b[0m\u001b[0;34m\u001b[0m\u001b[0m\n",
            "\u001b[0;32m/usr/local/lib/python3.11/dist-packages/pyscal/formats/lammps.py\u001b[0m in \u001b[0;36mread_snap\u001b[0;34m(infile, compressed, check_triclinic, customkeys)\u001b[0m\n\u001b[1;32m     71\u001b[0m     \u001b[0;32mif\u001b[0m \u001b[0;32mnot\u001b[0m \u001b[0mislist\u001b[0m\u001b[0;34m:\u001b[0m\u001b[0;34m\u001b[0m\u001b[0;34m\u001b[0m\u001b[0m\n\u001b[1;32m     72\u001b[0m         \u001b[0;32mif\u001b[0m \u001b[0;32mnot\u001b[0m \u001b[0mos\u001b[0m\u001b[0;34m.\u001b[0m\u001b[0mpath\u001b[0m\u001b[0;34m.\u001b[0m\u001b[0mexists\u001b[0m\u001b[0;34m(\u001b[0m\u001b[0minfile\u001b[0m\u001b[0;34m)\u001b[0m\u001b[0;34m:\u001b[0m\u001b[0;34m\u001b[0m\u001b[0;34m\u001b[0m\u001b[0m\n\u001b[0;32m---> 73\u001b[0;31m             \u001b[0;32mraise\u001b[0m \u001b[0mFileNotFoundError\u001b[0m\u001b[0;34m(\u001b[0m\u001b[0;34m\"Filename %s not found\"\u001b[0m\u001b[0;34m%\u001b[0m\u001b[0minfile\u001b[0m\u001b[0;34m)\u001b[0m\u001b[0;34m\u001b[0m\u001b[0;34m\u001b[0m\u001b[0m\n\u001b[0m\u001b[1;32m     74\u001b[0m         \u001b[0;31m#first depending on if the extension is .gz - use zipped read\u001b[0m\u001b[0;34m\u001b[0m\u001b[0;34m\u001b[0m\u001b[0m\n\u001b[1;32m     75\u001b[0m         \u001b[0mraw\u001b[0m \u001b[0;34m=\u001b[0m \u001b[0minfile\u001b[0m\u001b[0;34m.\u001b[0m\u001b[0msplit\u001b[0m\u001b[0;34m(\u001b[0m\u001b[0;34m'.'\u001b[0m\u001b[0;34m)\u001b[0m\u001b[0;34m\u001b[0m\u001b[0;34m\u001b[0m\u001b[0m\n",
            "\u001b[0;31mFileNotFoundError\u001b[0m: Filename ts.2000.dump not found"
          ]
        }
      ]
    },
    {
      "cell_type": "code",
      "source": [
        "from PIL import Image\n",
        "from IPython.display import display\n",
        "\n",
        "im = Image.open(\"ss.20000.ppm\")\n",
        "display(im)\n"
      ],
      "metadata": {
        "colab": {
          "base_uri": "https://localhost:8080/",
          "height": 315
        },
        "id": "_8FH_JLs8MwR",
        "outputId": "711c3c82-44e1-420b-a8ed-b74e5b072994"
      },
      "execution_count": 123,
      "outputs": [
        {
          "output_type": "error",
          "ename": "FileNotFoundError",
          "evalue": "[Errno 2] No such file or directory: 'ss.20000.ppm'",
          "traceback": [
            "\u001b[0;31m---------------------------------------------------------------------------\u001b[0m",
            "\u001b[0;31mFileNotFoundError\u001b[0m                         Traceback (most recent call last)",
            "\u001b[0;32m/tmp/ipython-input-1202330166.py\u001b[0m in \u001b[0;36m<cell line: 0>\u001b[0;34m()\u001b[0m\n\u001b[1;32m      2\u001b[0m \u001b[0;32mfrom\u001b[0m \u001b[0mIPython\u001b[0m\u001b[0;34m.\u001b[0m\u001b[0mdisplay\u001b[0m \u001b[0;32mimport\u001b[0m \u001b[0mdisplay\u001b[0m\u001b[0;34m\u001b[0m\u001b[0;34m\u001b[0m\u001b[0m\n\u001b[1;32m      3\u001b[0m \u001b[0;34m\u001b[0m\u001b[0m\n\u001b[0;32m----> 4\u001b[0;31m \u001b[0mim\u001b[0m \u001b[0;34m=\u001b[0m \u001b[0mImage\u001b[0m\u001b[0;34m.\u001b[0m\u001b[0mopen\u001b[0m\u001b[0;34m(\u001b[0m\u001b[0;34m\"ss.20000.ppm\"\u001b[0m\u001b[0;34m)\u001b[0m\u001b[0;34m\u001b[0m\u001b[0;34m\u001b[0m\u001b[0m\n\u001b[0m\u001b[1;32m      5\u001b[0m \u001b[0mdisplay\u001b[0m\u001b[0;34m(\u001b[0m\u001b[0mim\u001b[0m\u001b[0;34m)\u001b[0m\u001b[0;34m\u001b[0m\u001b[0;34m\u001b[0m\u001b[0m\n",
            "\u001b[0;32m/usr/local/lib/python3.11/dist-packages/PIL/Image.py\u001b[0m in \u001b[0;36mopen\u001b[0;34m(fp, mode, formats)\u001b[0m\n\u001b[1;32m   3511\u001b[0m     \u001b[0;32mif\u001b[0m \u001b[0mis_path\u001b[0m\u001b[0;34m(\u001b[0m\u001b[0mfp\u001b[0m\u001b[0;34m)\u001b[0m\u001b[0;34m:\u001b[0m\u001b[0;34m\u001b[0m\u001b[0;34m\u001b[0m\u001b[0m\n\u001b[1;32m   3512\u001b[0m         \u001b[0mfilename\u001b[0m \u001b[0;34m=\u001b[0m \u001b[0mos\u001b[0m\u001b[0;34m.\u001b[0m\u001b[0mfspath\u001b[0m\u001b[0;34m(\u001b[0m\u001b[0mfp\u001b[0m\u001b[0;34m)\u001b[0m\u001b[0;34m\u001b[0m\u001b[0;34m\u001b[0m\u001b[0m\n\u001b[0;32m-> 3513\u001b[0;31m         \u001b[0mfp\u001b[0m \u001b[0;34m=\u001b[0m \u001b[0mbuiltins\u001b[0m\u001b[0;34m.\u001b[0m\u001b[0mopen\u001b[0m\u001b[0;34m(\u001b[0m\u001b[0mfilename\u001b[0m\u001b[0;34m,\u001b[0m \u001b[0;34m\"rb\"\u001b[0m\u001b[0;34m)\u001b[0m\u001b[0;34m\u001b[0m\u001b[0;34m\u001b[0m\u001b[0m\n\u001b[0m\u001b[1;32m   3514\u001b[0m         \u001b[0mexclusive_fp\u001b[0m \u001b[0;34m=\u001b[0m \u001b[0;32mTrue\u001b[0m\u001b[0;34m\u001b[0m\u001b[0;34m\u001b[0m\u001b[0m\n\u001b[1;32m   3515\u001b[0m     \u001b[0;32melse\u001b[0m\u001b[0;34m:\u001b[0m\u001b[0;34m\u001b[0m\u001b[0;34m\u001b[0m\u001b[0m\n",
            "\u001b[0;31mFileNotFoundError\u001b[0m: [Errno 2] No such file or directory: 'ss.20000.ppm'"
          ]
        }
      ]
    },
    {
      "cell_type": "code",
      "source": [
        "# !pip -q install imageio imageio-ffmpeg pillow\n",
        "import imageio, glob, re\n",
        "\n",
        "def natural_key(s):\n",
        "    return [int(t) if t.isdigit() else t for t in re.split(r'(\\d+)', s)]\n",
        "\n",
        "frames = sorted(glob.glob(\"ss.*.ppm\"), key=natural_key)\n",
        "\n",
        "# MP4\n",
        "with imageio.get_writer(\"lammps.mp4\", fps=10, codec=\"libx264\") as w:\n",
        "    for f in frames:\n",
        "        w.append_data(imageio.v2.imread(f))\n",
        "\n",
        "# GIF\n",
        "imageio.mimsave(\"lammps.gif\", [imageio.v2.imread(f) for f in frames], fps=10)\n",
        "from IPython.display import Video, Image as ShowImage\n",
        "\n",
        "display(Video(\"lammps.mp4\", embed=True))   # MP4\n"
      ],
      "metadata": {
        "colab": {
          "base_uri": "https://localhost:8080/",
          "height": 356
        },
        "id": "tMeqKMvTLXN4",
        "outputId": "10badd3e-eb90-4d58-b40b-6a447b90198a"
      },
      "execution_count": 124,
      "outputs": [
        {
          "output_type": "error",
          "ename": "ValueError",
          "evalue": "need at least one array to stack",
          "traceback": [
            "\u001b[0;31m---------------------------------------------------------------------------\u001b[0m",
            "\u001b[0;31mValueError\u001b[0m                                Traceback (most recent call last)",
            "\u001b[0;32m/tmp/ipython-input-3902828372.py\u001b[0m in \u001b[0;36m<cell line: 0>\u001b[0;34m()\u001b[0m\n\u001b[1;32m     13\u001b[0m \u001b[0;34m\u001b[0m\u001b[0m\n\u001b[1;32m     14\u001b[0m \u001b[0;31m# GIF\u001b[0m\u001b[0;34m\u001b[0m\u001b[0;34m\u001b[0m\u001b[0m\n\u001b[0;32m---> 15\u001b[0;31m \u001b[0mimageio\u001b[0m\u001b[0;34m.\u001b[0m\u001b[0mmimsave\u001b[0m\u001b[0;34m(\u001b[0m\u001b[0;34m\"lammps.gif\"\u001b[0m\u001b[0;34m,\u001b[0m \u001b[0;34m[\u001b[0m\u001b[0mimageio\u001b[0m\u001b[0;34m.\u001b[0m\u001b[0mv2\u001b[0m\u001b[0;34m.\u001b[0m\u001b[0mimread\u001b[0m\u001b[0;34m(\u001b[0m\u001b[0mf\u001b[0m\u001b[0;34m)\u001b[0m \u001b[0;32mfor\u001b[0m \u001b[0mf\u001b[0m \u001b[0;32min\u001b[0m \u001b[0mframes\u001b[0m\u001b[0;34m]\u001b[0m\u001b[0;34m,\u001b[0m \u001b[0mfps\u001b[0m\u001b[0;34m=\u001b[0m\u001b[0;36m10\u001b[0m\u001b[0;34m)\u001b[0m\u001b[0;34m\u001b[0m\u001b[0;34m\u001b[0m\u001b[0m\n\u001b[0m\u001b[1;32m     16\u001b[0m \u001b[0;32mfrom\u001b[0m \u001b[0mIPython\u001b[0m\u001b[0;34m.\u001b[0m\u001b[0mdisplay\u001b[0m \u001b[0;32mimport\u001b[0m \u001b[0mVideo\u001b[0m\u001b[0;34m,\u001b[0m \u001b[0mImage\u001b[0m \u001b[0;32mas\u001b[0m \u001b[0mShowImage\u001b[0m\u001b[0;34m\u001b[0m\u001b[0;34m\u001b[0m\u001b[0m\n\u001b[1;32m     17\u001b[0m \u001b[0;34m\u001b[0m\u001b[0m\n",
            "\u001b[0;32m/usr/local/lib/python3.11/dist-packages/imageio/v2.py\u001b[0m in \u001b[0;36mmimwrite\u001b[0;34m(uri, ims, format, **kwargs)\u001b[0m\n\u001b[1;32m    493\u001b[0m     \u001b[0mimopen_args\u001b[0m\u001b[0;34m[\u001b[0m\u001b[0;34m\"legacy_mode\"\u001b[0m\u001b[0;34m]\u001b[0m \u001b[0;34m=\u001b[0m \u001b[0;32mTrue\u001b[0m\u001b[0;34m\u001b[0m\u001b[0;34m\u001b[0m\u001b[0m\n\u001b[1;32m    494\u001b[0m     \u001b[0;32mwith\u001b[0m \u001b[0mimopen\u001b[0m\u001b[0;34m(\u001b[0m\u001b[0muri\u001b[0m\u001b[0;34m,\u001b[0m \u001b[0;34m\"wI\"\u001b[0m\u001b[0;34m,\u001b[0m \u001b[0;34m**\u001b[0m\u001b[0mimopen_args\u001b[0m\u001b[0;34m)\u001b[0m \u001b[0;32mas\u001b[0m \u001b[0mfile\u001b[0m\u001b[0;34m:\u001b[0m\u001b[0;34m\u001b[0m\u001b[0;34m\u001b[0m\u001b[0m\n\u001b[0;32m--> 495\u001b[0;31m         \u001b[0;32mreturn\u001b[0m \u001b[0mfile\u001b[0m\u001b[0;34m.\u001b[0m\u001b[0mwrite\u001b[0m\u001b[0;34m(\u001b[0m\u001b[0mims\u001b[0m\u001b[0;34m,\u001b[0m \u001b[0mis_batch\u001b[0m\u001b[0;34m=\u001b[0m\u001b[0;32mTrue\u001b[0m\u001b[0;34m,\u001b[0m \u001b[0;34m**\u001b[0m\u001b[0mkwargs\u001b[0m\u001b[0;34m)\u001b[0m\u001b[0;34m\u001b[0m\u001b[0;34m\u001b[0m\u001b[0m\n\u001b[0m\u001b[1;32m    496\u001b[0m \u001b[0;34m\u001b[0m\u001b[0m\n\u001b[1;32m    497\u001b[0m \u001b[0;34m\u001b[0m\u001b[0m\n",
            "\u001b[0;32m/usr/local/lib/python3.11/dist-packages/imageio/plugins/pillow.py\u001b[0m in \u001b[0;36mwrite\u001b[0;34m(self, ndimage, mode, format, is_batch, **kwargs)\u001b[0m\n\u001b[1;32m    415\u001b[0m \u001b[0;34m\u001b[0m\u001b[0m\n\u001b[1;32m    416\u001b[0m         \u001b[0;32mif\u001b[0m \u001b[0misinstance\u001b[0m\u001b[0;34m(\u001b[0m\u001b[0mndimage\u001b[0m\u001b[0;34m,\u001b[0m \u001b[0mlist\u001b[0m\u001b[0;34m)\u001b[0m\u001b[0;34m:\u001b[0m\u001b[0;34m\u001b[0m\u001b[0;34m\u001b[0m\u001b[0m\n\u001b[0;32m--> 417\u001b[0;31m             \u001b[0mndimage\u001b[0m \u001b[0;34m=\u001b[0m \u001b[0mnp\u001b[0m\u001b[0;34m.\u001b[0m\u001b[0mstack\u001b[0m\u001b[0;34m(\u001b[0m\u001b[0mndimage\u001b[0m\u001b[0;34m,\u001b[0m \u001b[0maxis\u001b[0m\u001b[0;34m=\u001b[0m\u001b[0;36m0\u001b[0m\u001b[0;34m)\u001b[0m\u001b[0;34m\u001b[0m\u001b[0;34m\u001b[0m\u001b[0m\n\u001b[0m\u001b[1;32m    418\u001b[0m             \u001b[0mis_batch\u001b[0m \u001b[0;34m=\u001b[0m \u001b[0;32mTrue\u001b[0m\u001b[0;34m\u001b[0m\u001b[0;34m\u001b[0m\u001b[0m\n\u001b[1;32m    419\u001b[0m         \u001b[0;32melse\u001b[0m\u001b[0;34m:\u001b[0m\u001b[0;34m\u001b[0m\u001b[0;34m\u001b[0m\u001b[0m\n",
            "\u001b[0;32m/usr/local/lib/python3.11/dist-packages/numpy/_core/shape_base.py\u001b[0m in \u001b[0;36mstack\u001b[0;34m(arrays, axis, out, dtype, casting)\u001b[0m\n\u001b[1;32m    442\u001b[0m     \u001b[0marrays\u001b[0m \u001b[0;34m=\u001b[0m \u001b[0;34m[\u001b[0m\u001b[0masanyarray\u001b[0m\u001b[0;34m(\u001b[0m\u001b[0marr\u001b[0m\u001b[0;34m)\u001b[0m \u001b[0;32mfor\u001b[0m \u001b[0marr\u001b[0m \u001b[0;32min\u001b[0m \u001b[0marrays\u001b[0m\u001b[0;34m]\u001b[0m\u001b[0;34m\u001b[0m\u001b[0;34m\u001b[0m\u001b[0m\n\u001b[1;32m    443\u001b[0m     \u001b[0;32mif\u001b[0m \u001b[0;32mnot\u001b[0m \u001b[0marrays\u001b[0m\u001b[0;34m:\u001b[0m\u001b[0;34m\u001b[0m\u001b[0;34m\u001b[0m\u001b[0m\n\u001b[0;32m--> 444\u001b[0;31m         \u001b[0;32mraise\u001b[0m \u001b[0mValueError\u001b[0m\u001b[0;34m(\u001b[0m\u001b[0;34m'need at least one array to stack'\u001b[0m\u001b[0;34m)\u001b[0m\u001b[0;34m\u001b[0m\u001b[0;34m\u001b[0m\u001b[0m\n\u001b[0m\u001b[1;32m    445\u001b[0m \u001b[0;34m\u001b[0m\u001b[0m\n\u001b[1;32m    446\u001b[0m     \u001b[0mshapes\u001b[0m \u001b[0;34m=\u001b[0m \u001b[0;34m{\u001b[0m\u001b[0marr\u001b[0m\u001b[0;34m.\u001b[0m\u001b[0mshape\u001b[0m \u001b[0;32mfor\u001b[0m \u001b[0marr\u001b[0m \u001b[0;32min\u001b[0m \u001b[0marrays\u001b[0m\u001b[0;34m}\u001b[0m\u001b[0;34m\u001b[0m\u001b[0;34m\u001b[0m\u001b[0m\n",
            "\u001b[0;31mValueError\u001b[0m: need at least one array to stack"
          ]
        }
      ]
    },
    {
      "cell_type": "code",
      "source": [
        "import os, numpy as np, matplotlib.pyplot as plt\n",
        "\n",
        "# ---- settings ----\n",
        "dump_prefix   = \"equil\"          # file pattern: ts.<step>.dump\n",
        "start_step    = 0\n",
        "end_step      = 2000\n",
        "stride        = 1000          # 0, 1000, 2000, ...\n",
        "timestep_ps   = 0.001         # metal units: 1 fs = 0.001 ps\n",
        "\n",
        "# ---- gather fractions over the series ----\n",
        "steps_found, times_ps = [], []\n",
        "frac_solid, frac_liq, coex_flags = [], [], []\n",
        "\n",
        "for step in range(start_step, end_step + 1, stride):\n",
        "    fname = f\"{dump_prefix}.{step}.dump\"\n",
        "    if not os.path.exists(fname):\n",
        "        # silently skip missing frames\n",
        "        continue\n",
        "\n",
        "    fs, fl, counts, coex = check_coexistence(fname, inputs[\"crystal_structure\"])\n",
        "    steps_found.append(step)\n",
        "    times_ps.append(step * timestep_ps)\n",
        "    frac_solid.append(fs)\n",
        "    frac_liq.append(fl)\n",
        "    coex_flags.append(coex)\n",
        "\n",
        "steps_found = np.array(steps_found, dtype=int)\n",
        "times_ps    = np.array(times_ps, float)\n",
        "frac_solid  = np.array(frac_solid, float)\n",
        "frac_liq    = np.array(frac_liq, float)\n",
        "coex_flags  = np.array(coex_flags, bool)\n",
        "\n",
        "# ---- plot ----\n",
        "plt.figure(figsize=(9,5))\n",
        "plt.plot(times_ps, frac_solid, label=\"Solid fraction\")\n",
        "plt.plot(times_ps, frac_liq,   label=\"Liquid fraction\")\n",
        "\n",
        "# Optional: mark the frames that satisfied your coexistence predicate\n",
        "if coex_flags.any():\n",
        "    plt.scatter(times_ps[coex_flags], frac_solid[coex_flags], marker='o', s=30, label=\"Coex: solid pts\")\n",
        "    plt.scatter(times_ps[coex_flags], frac_liq[coex_flags],   marker='x', s=30, label=\"Coex: liquid pts\")\n",
        "\n",
        "plt.xlabel(\"Time (ps)\")\n",
        "plt.ylabel(\"Fraction\")\n",
        "plt.ylim(0, 1)\n",
        "plt.legend()\n",
        "plt.tight_layout()\n",
        "plt.show()\n",
        "\n",
        "# ---- quick printout of last available frame ----\n",
        "if len(steps_found):\n",
        "    print(f\"Last frame: step={steps_found[-1]}  time={times_ps[-1]:.3f} ps\")\n",
        "    print(f\"  solid fraction = {frac_solid[-1]:.3f}\")\n",
        "    print(f\"  liquid fraction = {frac_liq[-1]:.3f}\")\n",
        "    print(f\"  coexistence = {coex_flags[-1]}\")\n",
        "else:\n",
        "    print(\"No dump files found in the requested range.\")\n"
      ],
      "metadata": {
        "colab": {
          "base_uri": "https://localhost:8080/",
          "height": 524
        },
        "id": "n17bs5O0Lkko",
        "outputId": "1b000422-5044-4b19-eaf7-623cc636858a"
      },
      "execution_count": 135,
      "outputs": [
        {
          "output_type": "display_data",
          "data": {
            "text/plain": [
              "<Figure size 900x500 with 1 Axes>"
            ],
            "image/png": "[encoded data removed]"
          },
          "metadata": {}
        },
        {
          "output_type": "stream",
          "name": "stdout",
          "text": [
            "No dump files found in the requested range.\n"
          ]
        }
      ]
    },
    {
      "cell_type": "code",
      "source": [
        "import os, numpy as np, matplotlib.pyplot as plt\n",
        "\n",
        "# ---- settings ----\n",
        "dump_prefix   = \"ts\"          # file pattern: ts.<step>.dump\n",
        "start_step    = 0\n",
        "end_step      = 2000\n",
        "stride        = 1000          # 0, 1000, 2000, ...\n",
        "timestep_ps   = 0.001         # metal units: 1 fs = 0.001 ps\n",
        "\n",
        "# ---- gather fractions over the series ----\n",
        "steps_found, times_ps = [], []\n",
        "frac_solid, frac_liq, coex_flags = [], [], []\n",
        "\n",
        "for step in range(start_step, end_step + 1, stride):\n",
        "    fname = f\"{dump_prefix}.{step}.dump\"\n",
        "    if not os.path.exists(fname):\n",
        "        # silently skip missing frames\n",
        "        continue\n",
        "\n",
        "    fs, fl, counts, coex = check_coexistence(fname, inputs[\"crystal_structure\"])\n",
        "    steps_found.append(step)\n",
        "    times_ps.append(step * timestep_ps)\n",
        "    frac_solid.append(fs)\n",
        "    frac_liq.append(fl)\n",
        "    coex_flags.append(coex)\n",
        "\n",
        "steps_found = np.array(steps_found, dtype=int)\n",
        "times_ps    = np.array(times_ps, float)\n",
        "frac_solid  = np.array(frac_solid, float)\n",
        "frac_liq    = np.array(frac_liq, float)\n",
        "coex_flags  = np.array(coex_flags, bool)\n",
        "\n",
        "# ---- plot ----\n",
        "plt.figure(figsize=(9,5))\n",
        "plt.plot(times_ps, frac_solid, label=\"Solid fraction\")\n",
        "plt.plot(times_ps, frac_liq,   label=\"Liquid fraction\")\n",
        "\n",
        "# Optional: mark the frames that satisfied your coexistence predicate\n",
        "if coex_flags.any():\n",
        "    plt.scatter(times_ps[coex_flags], frac_solid[coex_flags], marker='o', s=30, label=\"Coex: solid pts\")\n",
        "    plt.scatter(times_ps[coex_flags], frac_liq[coex_flags],   marker='x', s=30, label=\"Coex: liquid pts\")\n",
        "\n",
        "plt.xlabel(\"Time (ps)\")\n",
        "plt.ylabel(\"Fraction\")\n",
        "plt.ylim(0, 1)\n",
        "plt.legend()\n",
        "plt.tight_layout()\n",
        "plt.show()\n",
        "\n",
        "# ---- quick printout of last available frame ----\n",
        "if len(steps_found):\n",
        "    print(f\"Last frame: step={steps_found[-1]}  time={times_ps[-1]:.3f} ps\")\n",
        "    print(f\"  solid fraction = {frac_solid[-1]:.3f}\")\n",
        "    print(f\"  liquid fraction = {frac_liq[-1]:.3f}\")\n",
        "    print(f\"  coexistence = {coex_flags[-1]}\")\n",
        "else:\n",
        "    print(\"No dump files found in the requested range.\")\n"
      ],
      "metadata": {
        "colab": {
          "base_uri": "https://localhost:8080/",
          "height": 524
        },
        "id": "gql8uOb9MsgJ",
        "outputId": "45f4d5cf-d50e-460f-d2a7-efa5b1d92000"
      },
      "execution_count": 136,
      "outputs": [
        {
          "output_type": "display_data",
          "data": {
            "text/plain": [
              "<Figure size 900x500 with 1 Axes>"
            ],
            "image/png": "[encoded data removed]"
          },
          "metadata": {}
        },
        {
          "output_type": "stream",
          "name": "stdout",
          "text": [
            "No dump files found in the requested range.\n"
          ]
        }
      ]
    },
    {
      "cell_type": "code",
      "source": [
        "!rm ptm.*.dump"
      ],
      "metadata": {
        "id": "Y4hPlviTOOMi"
      },
      "execution_count": 129,
      "outputs": []
    },
    {
      "cell_type": "code",
      "source": [],
      "metadata": {
        "id": "hsZZ66YQPx-r"
      },
      "execution_count": null,
      "outputs": []
    }
  ]
}