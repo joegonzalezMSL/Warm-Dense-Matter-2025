{
  "nbformat": 4,
  "nbformat_minor": 0,
  "metadata": {
    "colab": {
      "provenance": [],
      "include_colab_link": true
    },
    "kernelspec": {
      "name": "python3",
      "display_name": "Python 3"
    },
    "language_info": {
      "name": "python"
    }
  },
  "cells": [
    {
      "cell_type": "markdown",
      "metadata": {
        "id": "view-in-github",
        "colab_type": "text"
      },
      "source": [
        "<a href=\"https://colab.research.google.com/github/joegonzalezMSL/Warm-Dense-Matter-2025/blob/main/lammps-minimal/examples/phase_transition/Cu-nucleation.ipynb\" target=\"_parent\"><img src=\"https://colab.research.google.com/assets/colab-badge.svg\" alt=\"Open In Colab\"/></a>"
      ]
    },
    {
      "cell_type": "code",
      "execution_count": 1,
      "metadata": {
        "colab": {
          "base_uri": "https://localhost:8080/"
        },
        "id": "P-cYfDMvVIuk",
        "outputId": "90e0cb11-e396-492a-c2a0-075f42c0684b"
      },
      "outputs": [
        {
          "output_type": "stream",
          "name": "stdout",
          "text": [
            "Reading package lists...\n",
            "Building dependency tree...\n",
            "Reading state information...\n",
            "The following additional packages will be installed:\n",
            "  fonts-mathjax lammps-data lammps-doc lammps-examples libfftw3-double3\n",
            "  libjs-mathjax libkim-api2 liblammps0 libvoro++1\n",
            "Suggested packages:\n",
            "  openkim-models libfftw3-bin libfftw3-dev fonts-mathjax-extras fonts-stix\n",
            "  libjs-mathjax-doc\n",
            "The following NEW packages will be installed:\n",
            "  fonts-mathjax lammps lammps-data lammps-doc lammps-examples libfftw3-double3\n",
            "  libjs-mathjax libkim-api2 liblammps0 libvoro++1\n",
            "0 upgraded, 10 newly installed, 0 to remove and 35 not upgraded.\n",
            "Need to get 66.2 MB of archives.\n",
            "After this operation, 278 MB of additional disk space will be used.\n",
            "Get:1 http://archive.ubuntu.com/ubuntu jammy/main amd64 fonts-mathjax all 2.7.9+dfsg-1 [2,208 kB]\n",
            "Get:2 http://archive.ubuntu.com/ubuntu jammy/universe amd64 lammps-data all 20220106.git7586adbb6a+ds1-2 [9,729 kB]\n",
            "Get:3 http://archive.ubuntu.com/ubuntu jammy/universe amd64 lammps-examples all 20220106.git7586adbb6a+ds1-2 [33.7 MB]\n",
            "Get:4 http://archive.ubuntu.com/ubuntu jammy/main amd64 libfftw3-double3 amd64 3.3.8-2ubuntu8 [770 kB]\n",
            "Get:5 http://archive.ubuntu.com/ubuntu jammy/universe amd64 libkim-api2 amd64 2.2.1-1 [554 kB]\n",
            "Get:6 http://archive.ubuntu.com/ubuntu jammy/universe amd64 libvoro++1 amd64 0.5+revert-to-0.4.6+dfsg1-1 [119 kB]\n",
            "Get:7 http://archive.ubuntu.com/ubuntu jammy/universe amd64 liblammps0 amd64 20220106.git7586adbb6a+ds1-2 [3,650 kB]\n",
            "Get:8 http://archive.ubuntu.com/ubuntu jammy/universe amd64 lammps amd64 20220106.git7586adbb6a+ds1-2 [14.7 kB]\n",
            "Get:9 http://archive.ubuntu.com/ubuntu jammy/main amd64 libjs-mathjax all 2.7.9+dfsg-1 [5,665 kB]\n",
            "Get:10 http://archive.ubuntu.com/ubuntu jammy/universe amd64 lammps-doc all 20220106.git7586adbb6a+ds1-2 [9,786 kB]\n",
            "Fetched 66.2 MB in 3s (21.7 MB/s)\n",
            "Selecting previously unselected package fonts-mathjax.\n",
            "(Reading database ... 126371 files and directories currently installed.)\n",
            "Preparing to unpack .../0-fonts-mathjax_2.7.9+dfsg-1_all.deb ...\n",
            "Unpacking fonts-mathjax (2.7.9+dfsg-1) ...\n",
            "Selecting previously unselected package lammps-data.\n",
            "Preparing to unpack .../1-lammps-data_20220106.git7586adbb6a+ds1-2_all.deb ...\n",
            "Unpacking lammps-data (20220106.git7586adbb6a+ds1-2) ...\n",
            "Selecting previously unselected package lammps-examples.\n",
            "Preparing to unpack .../2-lammps-examples_20220106.git7586adbb6a+ds1-2_all.deb ...\n",
            "Unpacking lammps-examples (20220106.git7586adbb6a+ds1-2) ...\n",
            "Selecting previously unselected package libfftw3-double3:amd64.\n",
            "Preparing to unpack .../3-libfftw3-double3_3.3.8-2ubuntu8_amd64.deb ...\n",
            "Unpacking libfftw3-double3:amd64 (3.3.8-2ubuntu8) ...\n",
            "Selecting previously unselected package libkim-api2:amd64.\n",
            "Preparing to unpack .../4-libkim-api2_2.2.1-1_amd64.deb ...\n",
            "Unpacking libkim-api2:amd64 (2.2.1-1) ...\n",
            "Selecting previously unselected package libvoro++1.\n",
            "Preparing to unpack .../5-libvoro++1_0.5+revert-to-0.4.6+dfsg1-1_amd64.deb ...\n",
            "Unpacking libvoro++1 (0.5+revert-to-0.4.6+dfsg1-1) ...\n",
            "Selecting previously unselected package liblammps0:amd64.\n",
            "Preparing to unpack .../6-liblammps0_20220106.git7586adbb6a+ds1-2_amd64.deb ...\n",
            "Unpacking liblammps0:amd64 (20220106.git7586adbb6a+ds1-2) ...\n",
            "Selecting previously unselected package lammps.\n",
            "Preparing to unpack .../7-lammps_20220106.git7586adbb6a+ds1-2_amd64.deb ...\n",
            "Unpacking lammps (20220106.git7586adbb6a+ds1-2) ...\n",
            "Selecting previously unselected package libjs-mathjax.\n",
            "Preparing to unpack .../8-libjs-mathjax_2.7.9+dfsg-1_all.deb ...\n",
            "Unpacking libjs-mathjax (2.7.9+dfsg-1) ...\n",
            "Selecting previously unselected package lammps-doc.\n",
            "Preparing to unpack .../9-lammps-doc_20220106.git7586adbb6a+ds1-2_all.deb ...\n",
            "Unpacking lammps-doc (20220106.git7586adbb6a+ds1-2) ...\n",
            "Setting up fonts-mathjax (2.7.9+dfsg-1) ...\n",
            "Setting up libjs-mathjax (2.7.9+dfsg-1) ...\n",
            "Setting up lammps-data (20220106.git7586adbb6a+ds1-2) ...\n",
            "Setting up libkim-api2:amd64 (2.2.1-1) ...\n",
            "Setting up lammps-examples (20220106.git7586adbb6a+ds1-2) ...\n",
            "Setting up lammps-doc (20220106.git7586adbb6a+ds1-2) ...\n",
            "Setting up libfftw3-double3:amd64 (3.3.8-2ubuntu8) ...\n",
            "Setting up libvoro++1 (0.5+revert-to-0.4.6+dfsg1-1) ...\n",
            "Setting up liblammps0:amd64 (20220106.git7586adbb6a+ds1-2) ...\n",
            "Setting up lammps (20220106.git7586adbb6a+ds1-2) ...\n",
            "Processing triggers for libc-bin (2.35-0ubuntu3.8) ...\n",
            "/sbin/ldconfig.real: /usr/local/lib/libtbbbind.so.3 is not a symbolic link\n",
            "\n",
            "/sbin/ldconfig.real: /usr/local/lib/libur_adapter_level_zero_v2.so.0 is not a symbolic link\n",
            "\n",
            "/sbin/ldconfig.real: /usr/local/lib/libtcm_debug.so.1 is not a symbolic link\n",
            "\n",
            "/sbin/ldconfig.real: /usr/local/lib/libur_adapter_level_zero.so.0 is not a symbolic link\n",
            "\n",
            "/sbin/ldconfig.real: /usr/local/lib/libhwloc.so.15 is not a symbolic link\n",
            "\n",
            "/sbin/ldconfig.real: /usr/local/lib/libur_adapter_opencl.so.0 is not a symbolic link\n",
            "\n",
            "/sbin/ldconfig.real: /usr/local/lib/libtbb.so.12 is not a symbolic link\n",
            "\n",
            "/sbin/ldconfig.real: /usr/local/lib/libtbbmalloc_proxy.so.2 is not a symbolic link\n",
            "\n",
            "/sbin/ldconfig.real: /usr/local/lib/libumf.so.0 is not a symbolic link\n",
            "\n",
            "/sbin/ldconfig.real: /usr/local/lib/libur_loader.so.0 is not a symbolic link\n",
            "\n",
            "/sbin/ldconfig.real: /usr/local/lib/libtcm.so.1 is not a symbolic link\n",
            "\n",
            "/sbin/ldconfig.real: /usr/local/lib/libtbbmalloc.so.2 is not a symbolic link\n",
            "\n",
            "/sbin/ldconfig.real: /usr/local/lib/libtbbbind_2_0.so.3 is not a symbolic link\n",
            "\n",
            "/sbin/ldconfig.real: /usr/local/lib/libtbbbind_2_5.so.3 is not a symbolic link\n",
            "\n",
            "Processing triggers for man-db (2.10.2-1) ...\n",
            "Processing triggers for fontconfig (2.13.1-4.2ubuntu5) ...\n"
          ]
        }
      ],
      "source": [
        "!apt-get -q install lammps"
      ]
    },
    {
      "cell_type": "code",
      "source": [
        "\n",
        "# --- CONFIG ---\n",
        "REPO_URL = \"https://github.com/joegonzalezMSL/Warm-Dense-Matter-2025.git\"\n",
        "BRANCH   = \"main\"\n",
        "# --- CLONE ---\n",
        "!rm -rf /content/*\n",
        "!git clone -b \"$BRANCH\" \"$REPO_URL\" /content/repo\n",
        "\n",
        "# --- GO INTO REPO ---\n",
        "%cd /content/repo/lammps-minimal/examples/phase_transition/"
      ],
      "metadata": {
        "colab": {
          "base_uri": "https://localhost:8080/"
        },
        "id": "JYl-K5obWTYL",
        "outputId": "55fc18f5-bb02-4649-d56f-494dd4308a77"
      },
      "execution_count": 2,
      "outputs": [
        {
          "output_type": "stream",
          "name": "stdout",
          "text": [
            "Cloning into '/content/repo'...\n",
            "remote: Enumerating objects: 188, done.\u001b[K\n",
            "remote: Counting objects: 100% (188/188), done.\u001b[K\n",
            "remote: Compressing objects: 100% (174/174), done.\u001b[K\n",
            "remote: Total 188 (delta 68), reused 0 (delta 0), pack-reused 0 (from 0)\u001b[K\n",
            "Receiving objects: 100% (188/188), 605.65 KiB | 3.86 MiB/s, done.\n",
            "Resolving deltas: 100% (68/68), done.\n",
            "/content/repo/lammps-minimal/examples/phase_transition\n"
          ]
        }
      ]
    },
    {
      "cell_type": "code",
      "source": [
        "!pwd"
      ],
      "metadata": {
        "colab": {
          "base_uri": "https://localhost:8080/"
        },
        "id": "s0YMJpDEWuLs",
        "outputId": "0fda615b-2817-41ac-e6f1-ab57f9f137fe"
      },
      "execution_count": 3,
      "outputs": [
        {
          "output_type": "stream",
          "name": "stdout",
          "text": [
            "/content/repo/lammps-minimal/examples/phase_transition\n"
          ]
        }
      ]
    },
    {
      "cell_type": "code",
      "source": [
        "!lmp -h | head -n2 |tail -1"
      ],
      "metadata": {
        "colab": {
          "base_uri": "https://localhost:8080/"
        },
        "id": "ZswKDxpbVZV-",
        "outputId": "aa9103ac-76e5-4320-f67b-2c293ebb27ae"
      },
      "execution_count": 4,
      "outputs": [
        {
          "output_type": "stream",
          "name": "stdout",
          "text": [
            "Large-scale Atomic/Molecular Massively Parallel Simulator - 29 Sep 2021 - Update 2\n"
          ]
        }
      ]
    },
    {
      "cell_type": "markdown",
      "source": [
        "# Crystallization of A Supercooled Liquid Copper\n",
        "\n",
        "We study crystallization in a supercooled copper liquid, focusing on homogeneous nucleation as the escape from metastability and showing how cooling rate dictates supercooling depth and the liquid–solid transition.\n",
        "\n",
        "I. Stable and Metastable Phases\n",
        "\n",
        "A stable phase is a state of matter (solid, liquid, or gas) where the system has minimized its free energy at a given temperature and pressure. At equilibrium, the system has no net tendency to change its phase.\n",
        "Sometimes, a system can exist in a state that is not the most stable but persists for some time. This is called a metastable phase. For example, liquid water can exist below its normal freezing point without crystallizing—this is known as supercooling.\n",
        "Thus, supercooling occurs when a liquid is cooled below its equilibrium freezing temperature but does not immediately crystallize. The farther the system is from equilibrium, the more unstable the metastable state becomes. Eventually, the system undergoes a phase transition to the more stable phase—here, the solid.\n",
        "The lifetime of the metastable supercooled state decreases as the system moves further below the equilibrium temperature, eventually leading to nucleation of the solid phase.\n",
        "\n",
        "II. Nucleation Fundamentals\n",
        "\n",
        "When a liquid is cooled below its equilibrium freezing point, crystallization does not begin instantly. Instead, the transition to the solid phase starts with the formation of small crystalline clusters within the liquid. This process is called nucleation.\n",
        "At first, atoms in the liquid may come together and form tiny crystalline embryos. However, most of these are unstable and dissolve back into the liquid. Only when a cluster reaches a certain size — called the critical nucleus size — does it become stable enough to keep growing. Below this size, surface effects dominate and the cluster is more likely to disappear; above this size, the reduction in energy from forming a solid outweighs the cost of creating new surfaces, and the nucleus grows spontaneously.\n",
        "Nucleation reflects a balance between two competing free-energy contributions: the bulk term, which stabilizes the solid and drives growth, and the surface term, which penalizes the creation of a new interface. The balance between these two determines the critical size.\n",
        "The nucleation rate — how quickly new solid clusters appear — depends strongly on temperature, or in other words, on supercoolings. Just below the melting point, the driving force for crystallization is small, so nucleation is very slow. As the liquid is cooled further, the driving force increases and nucleation becomes more likely. Important: if the system is cooled too quickly, atoms may not have enough time to rearrange into crystalline order, and the liquid can bypass nucleation, remaining in a metastable supercooled state or becoming an amorphous solid (glass).\n",
        "Two types of nucleation can occur: (1) Homogeneous nucleation: Nuclei form randomly in the bulk liquid; (2) Heterogeneous nucleation: Nuclei form preferentially at surfaces, impurities, or defects, which lower the energy barrier and make nucleation easier. In practice, heterogeneous nucleation is far more common in real systems.\n",
        "Once a stable nucleus forms, the process enters the growth stage, where atoms from the surrounding liquid attach to the solid cluster, and the crystal expands until the system transforms to the stable phase.\n",
        "\n",
        "III. Molecular Dynamics Simulation\n",
        "\n",
        "We use a reliable model for copper to explore its supercooled state and observe homogeneous, spontaneous crystal nucleation. The procedure is simple: we first heat a crystalline sample well above its melting temperature to ensure complete melting, and then cool it back down.\n",
        "In the simulation, the main indicators of nucleation are: (1) A sudden drop in potential energy — this happens because atoms in the liquid adopt the more energetically favorable crystalline arrangement; (2) The emergence of ordered structures — initially small, but once stable nuclei form, they grow into a crystalline phase."
      ],
      "metadata": {
        "id": "Rg1-i0qyViCK"
      }
    },
    {
      "cell_type": "code",
      "source": [
        "lammps_input = \"\"\"\n",
        "# ----------------------------------\n",
        "# LAMMPS script: Cu Supercooling\n",
        "# ----------------------------------\n",
        "\n",
        "# 1. Initialize simulation\n",
        "units metal\n",
        "dimension 3\n",
        "boundary p p p\n",
        "atom_style atomic\n",
        "\n",
        "# 2. Create FCC crystal\n",
        "lattice fcc 3.615\n",
        "region box block 0 8 0 8 0 8\n",
        "create_box 1 box\n",
        "create_atoms 1 box\n",
        "\n",
        "# 3. MD model\n",
        "pair_style eam/alloy\n",
        "pair_coeff \t\t* * /content/Warm-Dense-Matter-2025/lammps-minimal/potential/Cu_zhou.eam.alloy Cu\n",
        "neighbor 2.0 bin\n",
        "neigh_modify delay 10\n",
        "timestep 0.002 # = 2 fs\n",
        "\n",
        "# 4. Output\n",
        "thermo 1000\n",
        "thermo_style custom step temp press pe etotal\n",
        "dump myDump all custom 1000 dump_cu.lammpstrj id x y z\n",
        "\n",
        "# 5. Equilibrate at high T to melt\n",
        "velocity all create 3000 12345 mom yes rot yes\n",
        "fix melt all npt temp 2000 2000 0.1 iso 0 0 1.0\n",
        "run 10000\n",
        "unfix melt\n",
        "\n",
        "# -----------------------------\n",
        "# 6. Cooling\n",
        "# -----------------------------\n",
        "variable Tstart equal 3300      # Start temperature (K)\n",
        "variable Tend equal 300         # End temperature (K)\n",
        "\n",
        "fix cool all npt temp ${Tstart} ${Tend} 0.1 iso 0 0 1.0\n",
        "\n",
        "run 10000  # adjust to control final T and cooling rate\n",
        "\n",
        "unfix cool\n",
        "\n",
        "# -----------------------------\n",
        "# 7. Save final configuration\n",
        "# -----------------------------\n",
        "write_data cu_final.data\n",
        "\n",
        "# -----------------------------\n",
        "# 8. Data analysis\n",
        "# -----------------------------\n",
        "# After the run, you can plot:\n",
        "# 1. Temperature vs. Step: column 2 in thermo output\n",
        "# 2. Pressure vs. Step: column 3\n",
        "# 3. Potential energy vs. Step: column 4\n",
        "# Example: using gnuplot:\n",
        "# gnuplot> plot 'log.lammps' using 1:2 with lines title 'Temperature'\n",
        "# -----------------------------\n",
        "\"\"\"\n",
        "with open(\"npt.in\",'w') as f:\n",
        "  f.write(lammps_input)\n",
        "\n"
      ],
      "metadata": {
        "id": "k9C539T3VhGr"
      },
      "execution_count": 15,
      "outputs": []
    },
    {
      "cell_type": "code",
      "source": [
        "!lmp -in npt.in"
      ],
      "metadata": {
        "colab": {
          "base_uri": "https://localhost:8080/"
        },
        "id": "r0lEn42wWDzj",
        "outputId": "3ad5663e-ef81-4b7f-a425-879a59ca0e86"
      },
      "execution_count": 16,
      "outputs": [
        {
          "output_type": "stream",
          "name": "stdout",
          "text": [
            "LAMMPS (29 Sep 2021 - Update 2)\n",
            "OMP_NUM_THREADS environment is not set. Defaulting to 1 thread. (src/comm.cpp:98)\n",
            "  using 1 OpenMP thread(s) per MPI task\n",
            "Lattice spacing in x,y,z = 3.6150000 3.6150000 3.6150000\n",
            "Created orthogonal box = (0.0000000 0.0000000 0.0000000) to (28.920000 28.920000 28.920000)\n",
            "  1 by 1 by 1 MPI processor grid\n",
            "Created 2048 atoms\n",
            "  using lattice units in orthogonal box = (0.0000000 0.0000000 0.0000000) to (28.920000 28.920000 28.920000)\n",
            "  create_atoms CPU = 0.000 seconds\n",
            "Reading eam/alloy potential file /content/Warm-Dense-Matter-2025/lammps-minimal/potential/Cu_zhou.eam.alloy with DATE: 2007-10-12\n",
            "Neighbor list info ...\n",
            "  update every 1 steps, delay 10 steps, check yes\n",
            "  max neighbors/atom: 2000, page size: 100000\n",
            "  master list distance cutoff = 11.0375\n",
            "  ghost atom cutoff = 11.0375\n",
            "  binsize = 5.51875, bins = 6 6 6\n",
            "  1 neighbor lists, perpetual/occasional/extra = 1 0 0\n",
            "  (1) pair eam/alloy, perpetual\n",
            "      attributes: half, newton on\n",
            "      pair build: half/bin/atomonly/newton\n",
            "      stencil: half/bin/3d\n",
            "      bin: standard\n",
            "Setting up Verlet run ...\n",
            "  Unit style    : metal\n",
            "  Current step  : 0\n",
            "  Time step     : 0.002\n",
            "Per MPI rank memory allocation (min/avg/max) = 6.657 | 6.657 | 6.657 Mbytes\n",
            "Step Temp Press PotEng TotEng \n",
            "       0         3000    34839.089   -7249.5174   -6455.7308 \n",
            "    1000    1997.5787    1248.6082   -6318.3363   -5789.7859 \n",
            "    2000    1994.8964    4664.5682   -6323.4426    -5795.602 \n",
            "    3000    1956.0054    3509.0017   -6316.4161   -5798.8658 \n",
            "    4000    1955.3434   -1001.4543   -6311.5316   -5794.1565 \n",
            "    5000    2008.6641   -921.35533   -6328.3342   -5796.8507 \n",
            "    6000    1987.9817    3765.4917    -6337.127    -5811.116 \n",
            "    7000    2044.2429   -2375.7854   -6327.3869   -5786.4894 \n",
            "    8000    2031.9419    784.45308   -6331.3834   -5793.7407 \n",
            "    9000    2036.8518    160.00238   -6343.5378   -5804.5959 \n",
            "   10000    1983.8231    1726.8946   -6334.9991   -5810.0884 \n",
            "Loop time of 162.118 on 1 procs for 10000 steps with 2048 atoms\n",
            "\n",
            "Performance: 10.659 ns/day, 2.252 hours/ns, 61.683 timesteps/s\n",
            "99.6% CPU use with 1 MPI tasks x 1 OpenMP threads\n",
            "\n",
            "MPI task timing breakdown:\n",
            "Section |  min time  |  avg time  |  max time  |%varavg| %total\n",
            "---------------------------------------------------------------\n",
            "Pair    | 156.46     | 156.46     | 156.46     |   0.0 | 96.51\n",
            "Neigh   | 4.1993     | 4.1993     | 4.1993     |   0.0 |  2.59\n",
            "Comm    | 0.46226    | 0.46226    | 0.46226    |   0.0 |  0.29\n",
            "Output  | 0.023363   | 0.023363   | 0.023363   |   0.0 |  0.01\n",
            "Modify  | 0.8256     | 0.8256     | 0.8256     |   0.0 |  0.51\n",
            "Other   |            | 0.1501     |            |       |  0.09\n",
            "\n",
            "Nlocal:        2048.00 ave        2048 max        2048 min\n",
            "Histogram: 1 0 0 0 0 0 0 0 0 0\n",
            "Nghost:        8291.00 ave        8291 max        8291 min\n",
            "Histogram: 1 0 0 0 0 0 0 0 0 0\n",
            "Neighs:        403806.0 ave      403806 max      403806 min\n",
            "Histogram: 1 0 0 0 0 0 0 0 0 0\n",
            "\n",
            "Total # of neighbors = 403806\n",
            "Ave neighs/atom = 197.17090\n",
            "Neighbor list builds = 413\n",
            "Dangerous builds = 0\n",
            "Setting up Verlet run ...\n",
            "  Unit style    : metal\n",
            "  Current step  : 10000\n",
            "  Time step     : 0.002\n",
            "Per MPI rank memory allocation (min/avg/max) = 6.657 | 6.657 | 6.657 Mbytes\n",
            "Step Temp Press PotEng TotEng \n",
            "   10000    1983.8231    1726.8946   -6334.9991   -5810.0884 \n",
            "   11000    2947.6212    -2818.994   -5998.2157   -5218.2884 \n",
            "   12000     2660.104   -1034.8222   -6091.0505   -5387.1989 \n",
            "   13000    2375.6313    5706.2263   -6181.4059   -5552.8245 \n",
            "   14000    2082.3594   -1999.1587   -6279.7691   -5728.7861 \n",
            "   15000    1830.7832    1.2632929   -6386.2924   -5901.8753 \n",
            "   16000    1461.2183    1187.7094   -6489.1475   -6102.5157 \n",
            "   17000    1231.1078   -1181.1311   -6611.7671   -6286.0215 \n",
            "   18000    919.68122    2095.3645   -6740.8013   -6497.4578 \n",
            "   19000    617.24736   -90.468475   -6860.6587   -6697.3378 \n",
            "   20000     318.4705   -1839.8895   -6968.2053   -6883.9395 \n",
            "Loop time of 163.458 on 1 procs for 10000 steps with 2048 atoms\n",
            "\n",
            "Performance: 10.572 ns/day, 2.270 hours/ns, 61.178 timesteps/s\n",
            "99.7% CPU use with 1 MPI tasks x 1 OpenMP threads\n",
            "\n",
            "MPI task timing breakdown:\n",
            "Section |  min time  |  avg time  |  max time  |%varavg| %total\n",
            "---------------------------------------------------------------\n",
            "Pair    | 158.29     | 158.29     | 158.29     |   0.0 | 96.84\n",
            "Neigh   | 3.7339     | 3.7339     | 3.7339     |   0.0 |  2.28\n",
            "Comm    | 0.45103    | 0.45103    | 0.45103    |   0.0 |  0.28\n",
            "Output  | 0.019781   | 0.019781   | 0.019781   |   0.0 |  0.01\n",
            "Modify  | 0.80756    | 0.80756    | 0.80756    |   0.0 |  0.49\n",
            "Other   |            | 0.1529     |            |       |  0.09\n",
            "\n",
            "Nlocal:        2048.00 ave        2048 max        2048 min\n",
            "Histogram: 1 0 0 0 0 0 0 0 0 0\n",
            "Nghost:        9009.00 ave        9009 max        9009 min\n",
            "Histogram: 1 0 0 0 0 0 0 0 0 0\n",
            "Neighs:        473742.0 ave      473742 max      473742 min\n",
            "Histogram: 1 0 0 0 0 0 0 0 0 0\n",
            "\n",
            "Total # of neighbors = 473742\n",
            "Ave neighs/atom = 231.31934\n",
            "Neighbor list builds = 367\n",
            "Dangerous builds = 0\n",
            "System init for write_data ...\n",
            "Total wall time: 0:05:25\n"
          ]
        }
      ]
    },
    {
      "cell_type": "markdown",
      "source": [],
      "metadata": {
        "id": "r_3KUYhLg-2s"
      }
    },
    {
      "cell_type": "markdown",
      "source": [
        "## 4. Homework\n",
        "Modify the cooling rate in the LAMMPS input file:\n",
        "\n",
        "1.   Slow down the cooling by factors of 10.\n",
        "2.   Speed it up by a factor of 10 and 100.\n",
        "\n",
        "For each case, analyze the potential energy as a function of time. Compare how the cooling rate influences the onset of crystallization, the degree of supercooling reached, and the sharpness of the energy drop. Summarize your findings and explain how the rate of cooling controls the balance between remaining in the metastable liquid state and transitioning to the crystalline solid."
      ],
      "metadata": {
        "id": "3tkjdN5FXmKT"
      }
    },
    {
      "cell_type": "code",
      "source": [],
      "metadata": {
        "id": "exvjYFEVXs59"
      },
      "execution_count": null,
      "outputs": []
    }
  ]
}