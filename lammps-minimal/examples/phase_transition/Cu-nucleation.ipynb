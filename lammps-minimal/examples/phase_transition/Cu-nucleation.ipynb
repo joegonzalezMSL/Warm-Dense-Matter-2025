{
  "nbformat": 4,
  "nbformat_minor": 0,
  "metadata": {
    "colab": {
      "provenance": [],
      "authorship_tag": "ABX9TyNg4mH3tvJzwtAXk9bi/dbc",
      "include_colab_link": true
    },
    "kernelspec": {
      "name": "python3",
      "display_name": "Python 3"
    },
    "language_info": {
      "name": "python"
    }
  },
  "cells": [
    {
      "cell_type": "markdown",
      "metadata": {
        "id": "view-in-github",
        "colab_type": "text"
      },
      "source": [
        "<a href=\"https://colab.research.google.com/github/joegonzalezMSL/Warm-Dense-Matter-2025/blob/main/lammps-minimal/examples/phase_transition/Cu-nucleation.ipynb\" target=\"_parent\"><img src=\"https://colab.research.google.com/assets/colab-badge.svg\" alt=\"Open In Colab\"/></a>"
      ]
    },
    {
      "cell_type": "code",
      "execution_count": 1,
      "metadata": {
        "colab": {
          "base_uri": "https://localhost:8080/"
        },
        "id": "P-cYfDMvVIuk",
        "outputId": "2bcd3531-2632-4a67-f601-b2fc8c58a901"
      },
      "outputs": [
        {
          "output_type": "stream",
          "name": "stdout",
          "text": [
            "Reading package lists...\n",
            "Building dependency tree...\n",
            "Reading state information...\n",
            "lammps is already the newest version (20220106.git7586adbb6a+ds1-2).\n",
            "0 upgraded, 0 newly installed, 0 to remove and 35 not upgraded.\n"
          ]
        }
      ],
      "source": [
        "!apt-get -q install lammps"
      ]
    },
    {
      "cell_type": "code",
      "source": [
        "\n",
        "# --- CONFIG ---\n",
        "REPO_URL = \"https://github.com/joegonzalezMSL/Warm-Dense-Matter-2025.git\"\n",
        "BRANCH   = \"main\"\n",
        "# --- CLONE ---\n",
        "!rm -rf /content/*\n",
        "!git clone -b \"$BRANCH\" \"$REPO_URL\" /content/repo\n",
        "\n",
        "# --- GO INTO REPO ---\n",
        "%cd /content/repo/lammps-minimal/examples/phase_transition/"
      ],
      "metadata": {
        "colab": {
          "base_uri": "https://localhost:8080/"
        },
        "id": "JYl-K5obWTYL",
        "outputId": "c9a68971-e741-4461-d7f9-30716aba52a9"
      },
      "execution_count": 2,
      "outputs": [
        {
          "output_type": "stream",
          "name": "stdout",
          "text": [
            "Cloning into '/content/repo'...\n",
            "remote: Enumerating objects: 176, done.\u001b[K\n",
            "remote: Counting objects: 100% (176/176), done.\u001b[K\n",
            "remote: Compressing objects: 100% (162/162), done.\u001b[K\n",
            "remote: Total 176 (delta 62), reused 0 (delta 0), pack-reused 0 (from 0)\u001b[K\n",
            "Receiving objects: 100% (176/176), 596.17 KiB | 6.28 MiB/s, done.\n",
            "Resolving deltas: 100% (62/62), done.\n",
            "/content/repo/lammps-minimal/examples/phase_transition\n"
          ]
        }
      ]
    },
    {
      "cell_type": "code",
      "source": [
        "!pwd"
      ],
      "metadata": {
        "colab": {
          "base_uri": "https://localhost:8080/"
        },
        "id": "s0YMJpDEWuLs",
        "outputId": "6560edae-6157-4088-833c-8973fc0f0537"
      },
      "execution_count": 4,
      "outputs": [
        {
          "output_type": "stream",
          "name": "stdout",
          "text": [
            "/content/repo/lammps-minimal/examples/phase_transition\n"
          ]
        }
      ]
    },
    {
      "cell_type": "code",
      "source": [
        "!lmp -h | head -n2 |tail -1"
      ],
      "metadata": {
        "colab": {
          "base_uri": "https://localhost:8080/"
        },
        "id": "ZswKDxpbVZV-",
        "outputId": "facef1b7-aafd-447f-e3af-19c0ff3d2014"
      },
      "execution_count": 3,
      "outputs": [
        {
          "output_type": "stream",
          "name": "stdout",
          "text": [
            "Large-scale Atomic/Molecular Massively Parallel Simulator - 29 Sep 2021 - Update 2\n"
          ]
        }
      ]
    },
    {
      "cell_type": "markdown",
      "source": [
        "# Phase Transition\n",
        "We study crystallization in a supercooled copper liquid, focusing on homogeneous nucleation as the escape from metastability and showing how cooling rate dictates supercooling depth and the liquid–solid transition.\n",
        "\n",
        "# Crystallization of A Supercooled Liquid Copper\n",
        "\n",
        "I. Stable and Metastable Phases\n",
        "\n",
        "1.   List item\n",
        "2.   List item\n",
        "\n",
        "\n",
        "A stable phase is a state of matter (solid, liquid, or gas) where the system has minimized its free energy at a given temperature and pressure. At equilibrium, the system has no net tendency to change its phase.\n",
        "Sometimes, a system can exist in a state that is not the most stable but persists for some time. This is called a metastable phase. For example, liquid water can exist below its normal freezing point without crystallizing—this is known as supercooling.\n",
        "Thus, supercooling occurs when a liquid is cooled below its equilibrium freezing temperature but does not immediately crystallize. The farther the system is from equilibrium, the more unstable the metastable state becomes. Eventually, the system undergoes a phase transition to the more stable phase—here, the solid.\n",
        "The lifetime of the metastable supercooled state decreases as the system moves further below the equilibrium temperature, eventually leading to nucleation of the solid phase.\n",
        "\n",
        "II. Nucleation Fundamentals\n",
        "When a liquid is cooled below its equilibrium freezing point, crystallization does not begin instantly. Instead, the transition to the solid phase starts with the formation of small crystalline clusters within the liquid. This process is called nucleation.\n",
        "At first, atoms in the liquid may come together and form tiny crystalline embryos. However, most of these are unstable and dissolve back into the liquid. Only when a cluster reaches a certain size — called the critical nucleus size — does it become stable enough to keep growing. Below this size, surface effects dominate and the cluster is more likely to disappear; above this size, the reduction in energy from forming a solid outweighs the cost of creating new surfaces, and the nucleus grows spontaneously.\n",
        "Nucleation reflects a balance between two competing free-energy contributions: the bulk term, which stabilizes the solid and drives growth, and the surface term, which penalizes the creation of a new interface. The balance between these two determines the critical size.\n",
        "The nucleation rate — how quickly new solid clusters appear — depends strongly on temperature, or in other words, on supercoolings. Just below the melting point, the driving force for crystallization is small, so nucleation is very slow. As the liquid is cooled further, the driving force increases and nucleation becomes more likely. Important: if the system is cooled too quickly, atoms may not have enough time to rearrange into crystalline order, and the liquid can bypass nucleation, remaining in a metastable supercooled state or becoming an amorphous solid (glass).\n",
        "Two types of nucleation can occur: (1) Homogeneous nucleation: Nuclei form randomly in the bulk liquid; (2) Heterogeneous nucleation: Nuclei form preferentially at surfaces, impurities, or defects, which lower the energy barrier and make nucleation easier. In practice, heterogeneous nucleation is far more common in real systems.\n",
        "Once a stable nucleus forms, the process enters the growth stage, where atoms from the surrounding liquid attach to the solid cluster, and the crystal expands until the system transforms to the stable phase.\n",
        "\n",
        "III. Molecular Dynamics Simulation\n",
        "We use a reliable model for copper to explore its supercooled state and observe homogeneous, spontaneous crystal nucleation. The procedure is simple: we first heat a crystalline sample well above its melting temperature to ensure complete melting, and then cool it back down.\n",
        "In the simulation, the main indicators of nucleation are: (1) A sudden drop in potential energy — this happens because atoms in the liquid adopt the more energetically favorable crystalline arrangement; (2) The emergence of ordered structures — initially small, but once stable nuclei form, they grow into a crystalline phase."
      ],
      "metadata": {
        "id": "Rg1-i0qyViCK"
      }
    },
    {
      "cell_type": "code",
      "source": [
        "lammps_input = \"\"\"\n",
        "# ----------------------------------\n",
        "# LAMMPS script: Cu Supercooling\n",
        "# ----------------------------------\n",
        "\n",
        "# 1. Initialize simulation\n",
        "units metal\n",
        "dimension 3\n",
        "boundary p p p\n",
        "atom_style atomic\n",
        "\n",
        "# 2. Create FCC crystal\n",
        "lattice fcc 3.615\n",
        "region box block 0 10 0 10 0 10\n",
        "create_box 1 box\n",
        "create_atoms 1 box\n",
        "\n",
        "# 3. Define an interatomic potential: EAM for Cu\n",
        "pair_style eam/alloy\n",
        "pair_coeff \t\t* * /content/Warm-Dense-Matter-2025/lammps-minimal/potential/Cu_zhou.eam.alloy Cu\n",
        "\n",
        "# 4. Neighbor list settings\n",
        "neighbor 2.0 bin\n",
        "neigh_modify delay 10\n",
        "\n",
        "# 5. Output settings\n",
        "thermo 100\n",
        "thermo_style custom step temp press pe etotal\n",
        "dump myDump all custom 100 dump_cu.lammpstrj id x y z\n",
        "\n",
        "# 6. Equilibrate at high T to melt\n",
        "velocity all create 2000 12345 mom yes rot yes\n",
        "fix melt all npt temp 2000 2000 0.1 iso 0 0 1.0\n",
        "run 5000\n",
        "unfix melt\n",
        "\n",
        "# -----------------------------\n",
        "# 7. Cooling\n",
        "# -----------------------------\n",
        "variable Tstart equal 2300      # Start temperature (K)\n",
        "variable Tend equal 300         # End temperature (K)\n",
        "\n",
        "fix cool all npt temp ${Tstart} ${Tend} 0.1 iso 0 0 1.0\n",
        "\n",
        "run 20000  # adjust to control final T and cooling rate\n",
        "\n",
        "unfix cool\n",
        "\n",
        "# -----------------------------\n",
        "# 8. Save final configuration\n",
        "# -----------------------------\n",
        "write_data cu_final.data\n",
        "\n",
        "# -----------------------------\n",
        "# 9. Data analysis\n",
        "# -----------------------------\n",
        "# After the run, you can plot:\n",
        "# 1. Temperature vs. Step: column 2 in thermo output\n",
        "# 2. Pressure vs. Step: column 3\n",
        "# 3. Potential energy vs. Step: column 4\n",
        "# Example: using gnuplot:\n",
        "# gnuplot> plot 'log.lammps' using 1:2 with lines title 'Temperature'\n",
        "# -----------------------------\n",
        "\"\"\"\n",
        "with open(\"npt.in\",'w') as f:\n",
        "  f.write(lammps_input)\n",
        "\n"
      ],
      "metadata": {
        "id": "k9C539T3VhGr"
      },
      "execution_count": 9,
      "outputs": []
    },
    {
      "cell_type": "code",
      "source": [
        "!lmp -in npt.in"
      ],
      "metadata": {
        "colab": {
          "base_uri": "https://localhost:8080/"
        },
        "id": "r0lEn42wWDzj",
        "outputId": "058d6db1-bff2-4989-dc0d-9fe47e4d6ea7"
      },
      "execution_count": null,
      "outputs": [
        {
          "output_type": "stream",
          "name": "stdout",
          "text": [
            "LAMMPS (29 Sep 2021 - Update 2)\n",
            "OMP_NUM_THREADS environment is not set. Defaulting to 1 thread. (src/comm.cpp:98)\n",
            "  using 1 OpenMP thread(s) per MPI task\n",
            "Lattice spacing in x,y,z = 3.6150000 3.6150000 3.6150000\n",
            "Created orthogonal box = (0.0000000 0.0000000 0.0000000) to (36.150000 36.150000 36.150000)\n",
            "  1 by 1 by 1 MPI processor grid\n",
            "Created 4000 atoms\n",
            "  using lattice units in orthogonal box = (0.0000000 0.0000000 0.0000000) to (36.150000 36.150000 36.150000)\n",
            "  create_atoms CPU = 0.001 seconds\n",
            "Reading eam/alloy potential file /content/Warm-Dense-Matter-2025/lammps-minimal/potential/Cu_zhou.eam.alloy with DATE: 2007-10-12\n",
            "Neighbor list info ...\n",
            "  update every 1 steps, delay 10 steps, check yes\n",
            "  max neighbors/atom: 2000, page size: 100000\n",
            "  master list distance cutoff = 11.0375\n",
            "  ghost atom cutoff = 11.0375\n",
            "  binsize = 5.51875, bins = 7 7 7\n",
            "  1 neighbor lists, perpetual/occasional/extra = 1 0 0\n",
            "  (1) pair eam/alloy, perpetual\n",
            "      attributes: half, newton on\n",
            "      pair build: half/bin/atomonly/newton\n",
            "      stencil: half/bin/3d\n",
            "      bin: standard\n",
            "Setting up Verlet run ...\n",
            "  Unit style    : metal\n",
            "  Current step  : 0\n",
            "  Time step     : 0.001\n",
            "Per MPI rank memory allocation (min/avg/max) = 11.56 | 11.56 | 11.56 Mbytes\n",
            "Step Temp Press PotEng TotEng \n",
            "       0         2000    23160.252   -14159.214   -13125.391 \n",
            "     100     814.1306    23529.395    -13513.99   -13093.157 \n",
            "     200    1039.3539   -1417.5367   -13518.351   -12981.097 \n",
            "     300    1169.3379   -1430.2325   -13442.475   -12838.031 \n",
            "     400    1324.4711    2839.5518   -13362.994    -12678.36 \n",
            "     500    1436.5408    7398.1654   -13249.004    -12506.44 \n",
            "     600     1563.077    7771.0159   -13136.665   -12328.692 \n",
            "     700    1653.4403    7510.3534   -13005.323   -12150.641 \n",
            "     800    1770.7658    6815.7139   -12889.651   -11974.322 \n",
            "     900    1807.4207    8929.6441   -12743.746    -11809.47 \n",
            "    1000    1876.3207     9490.545   -12623.833   -11653.941 \n",
            "    1100    1956.8054     7043.424   -12526.757   -11515.262 \n",
            "    1200    1980.6631    6510.0934   -12423.127     -11399.3 \n",
            "    1300    2037.5374    2795.0103   -12363.684   -11310.457 \n",
            "    1400    2060.7974     195.8453   -12331.877   -11266.627 \n",
            "    1500    2014.6938   -2201.5951   -12314.752   -11273.334 \n",
            "    1600    2024.9591   -4614.0095   -12342.394    -11295.67 \n",
            "    1700    1963.1293   -1392.6508   -12343.549   -11328.785 \n",
            "    1800    1975.1151    1119.1131    -12361.89    -11340.93 \n",
            "    1900    2050.0838     1110.829   -12384.782    -11325.07 \n",
            "    2000    1985.5412    2362.5623   -12358.316   -11331.967 \n",
            "    2100    1986.6894   -160.28745   -12366.971   -11340.029 \n",
            "    2200    1994.3976     -1769.67   -12370.523   -11339.596 \n",
            "    2300     2001.858   -1115.6947   -12371.139   -11336.356 \n",
            "    2400     1984.942    1079.4707   -12363.078   -11337.039 \n",
            "    2500    2003.3064    1572.0117   -12379.296   -11343.764 \n",
            "    2600    2008.9579   -337.69563   -12388.886   -11350.433 \n",
            "    2700    1992.7619   -621.18802   -12374.206   -11344.125 \n",
            "    2800    2020.6108   -345.49242   -12372.443   -11327.966 \n",
            "    2900      2009.12    140.62525   -12364.284   -11325.747 \n",
            "    3000    1983.2223   -278.44946   -12358.258   -11333.108 \n",
            "    3100    2007.8405    114.09752   -12369.705   -11331.829 \n",
            "    3200    2010.5866   -165.88349   -12367.133   -11327.838 \n",
            "    3300    1973.6745    1370.5724   -12346.351   -11326.137 \n",
            "    3400    2012.1694    238.57396   -12350.284   -11310.171 \n",
            "    3500    2038.9442   -1528.8944   -12357.239   -11303.286 \n",
            "    3600     1989.352     -884.175   -12354.708   -11326.389 \n",
            "    3700    1974.3617   -133.86153    -12355.64    -11335.07 \n",
            "    3800    2066.7572    -1223.568   -12385.763   -11317.433 \n",
            "    3900    1990.2568    2057.6959   -12354.466    -11325.68 \n",
            "    4000    2000.7891    72.856402   -12367.762   -11333.531 \n",
            "    4100    1950.9102    392.22065   -12345.748     -11337.3 \n",
            "    4200    2003.0564   -742.90579   -12362.379   -11326.976 \n",
            "    4300    2029.5111   -275.70007   -12358.453   -11309.376 \n",
            "    4400    1984.7087    756.07569   -12334.618     -11308.7 \n",
            "    4500    2042.5018    -717.3994   -12363.932    -11308.14 \n",
            "    4600     1975.017   -399.98408   -12342.865   -11321.956 \n",
            "    4700    1990.5831   -1147.4578   -12359.599   -11330.644 \n",
            "    4800    1992.1277    162.49335   -12366.639   -11336.886 \n",
            "    4900    1992.5882    1899.1299   -12373.922   -11343.931 \n",
            "    5000    1994.7133    1563.4434   -12375.033   -11343.943 \n",
            "Loop time of 219.024 on 1 procs for 5000 steps with 4000 atoms\n",
            "\n",
            "Performance: 1.972 ns/day, 12.168 hours/ns, 22.829 timesteps/s\n",
            "98.7% CPU use with 1 MPI tasks x 1 OpenMP threads\n",
            "\n",
            "MPI task timing breakdown:\n",
            "Section |  min time  |  avg time  |  max time  |%varavg| %total\n",
            "---------------------------------------------------------------\n",
            "Pair    | 213.96     | 213.96     | 213.96     |   0.0 | 97.69\n",
            "Neigh   | 3.0332     | 3.0332     | 3.0332     |   0.0 |  1.38\n",
            "Comm    | 0.4058     | 0.4058     | 0.4058     |   0.0 |  0.19\n",
            "Output  | 0.42048    | 0.42048    | 0.42048    |   0.0 |  0.19\n",
            "Modify  | 1.0058     | 1.0058     | 1.0058     |   0.0 |  0.46\n",
            "Other   |            | 0.2        |            |       |  0.09\n",
            "\n",
            "Nlocal:        4000.00 ave        4000 max        4000 min\n",
            "Histogram: 1 0 0 0 0 0 0 0 0 0\n",
            "Nghost:        11610.0 ave       11610 max       11610 min\n",
            "Histogram: 1 0 0 0 0 0 0 0 0 0\n",
            "Neighs:        789870.0 ave      789870 max      789870 min\n",
            "Histogram: 1 0 0 0 0 0 0 0 0 0\n",
            "\n",
            "Total # of neighbors = 789870\n",
            "Ave neighs/atom = 197.46750\n",
            "Neighbor list builds = 106\n",
            "Dangerous builds = 0\n",
            "Setting up Verlet run ...\n",
            "  Unit style    : metal\n",
            "  Current step  : 5000\n",
            "  Time step     : 0.001\n",
            "Per MPI rank memory allocation (min/avg/max) = 11.56 | 11.56 | 11.56 Mbytes\n",
            "Step Temp Press PotEng TotEng \n",
            "    5000    1994.7133    1563.4434   -12375.033   -11343.943 \n",
            "    5100     2062.193    2850.3672   -12346.695   -11280.724 \n",
            "    5200    2179.9777    1956.4509   -12323.796   -11196.941 \n",
            "    5300    2201.2528    685.68984   -12258.879   -11121.027 \n",
            "    5400     2230.135   -553.75426   -12203.497   -11050.715 \n",
            "    5500    2278.0929   -3124.5327   -12180.703   -11003.131 \n",
            "    5600     2268.562   -2739.0508   -12172.056   -10999.411 \n",
            "    5700    2238.1774   -2130.7964   -12178.912   -11021.973 \n",
            "    5800    2215.5568   -1076.0235   -12203.295   -11058.049 \n",
            "    5900    2192.9405    1249.5757   -12226.199   -11092.643 \n",
            "    6000    2157.4349    3418.6047   -12227.607   -11112.405 \n",
            "    6100    2178.8148     2508.696   -12243.617   -11117.363 \n",
            "    6200    2179.5011   -26.515558   -12248.358   -11121.749 \n",
            "    6300    2187.1664   -1844.4072   -12246.403   -11115.832 \n",
            "    6400    2172.4764   -1166.8461   -12234.176   -11111.199 \n",
            "    6500    2137.9627    -269.8537    -12236.64   -11131.503 \n",
            "    6600    2142.5228   -630.58477   -12261.206   -11153.712 \n",
            "    6700    2113.8691    1709.7773   -12262.426   -11169.743 \n",
            "    6800    2122.9685    1031.3332   -12272.592   -11175.205 \n",
            "    6900    2085.0866   -200.73614    -12291.92   -11214.115 \n",
            "    7000    2044.0082    286.51063    -12282.75   -11226.179 \n",
            "    7100    2069.0208    1967.5753   -12275.506   -11206.006 \n",
            "    7200    2108.3836    698.83437   -12275.918   -11186.071 \n",
            "    7300    2111.1299   -1727.7516   -12284.794   -11193.527 \n",
            "    7400    2054.6116   -2107.0664   -12283.827   -11221.775 \n",
            "    7500    2074.1707   -1259.2057   -12301.574   -11229.412 \n",
            "    7600      2074.16   -128.68741   -12322.268   -11250.111 \n",
            "    7700    2024.5179    2205.7966   -12323.672   -11277.176 \n",
            "    7800    2011.7269    1865.3279   -12333.259   -11293.375 \n",
            "    7900    1997.5749    1291.1182   -12338.522   -11305.953 \n",
            "    8000    2014.8355   -1448.6462   -12354.091     -11312.6 \n",
            "    8100    1973.8297   -2350.5031   -12358.944   -11338.649 \n",
            "    8200     1942.474   -1695.3954   -12366.206   -11362.119 \n",
            "    8300    1995.4249   -340.17428   -12390.149   -11358.691 \n",
            "    8400    1997.0302    2641.9429   -12394.896   -11362.608 \n",
            "    8500     1941.911      2445.84   -12399.185    -11395.39 \n",
            "    8600     1912.377    60.399056   -12395.764   -11407.234 \n",
            "    8700    1915.7092   -1076.3056   -12390.661   -11400.409 \n",
            "    8800    1950.7018   -351.78833   -12382.483   -11374.143 \n"
          ]
        }
      ]
    },
    {
      "cell_type": "markdown",
      "source": [
        "## 4. Homework\n",
        "Modify the cooling rate in the LAMMPS input file:\n",
        "\n",
        "1.   Slow down the cooling by factors of 10 and 100.\n",
        "2.   Speed it up by a factor of 10 and 100.\n",
        "\n",
        "For each case, analyze the potential energy as a function of time. Compare how the cooling rate influences the onset of crystallization, the degree of supercooling reached, and the sharpness of the energy drop. Summarize your findings and explain how the rate of cooling controls the balance between remaining in the metastable liquid state and transitioning to the crystalline solid."
      ],
      "metadata": {
        "id": "3tkjdN5FXmKT"
      }
    },
    {
      "cell_type": "code",
      "source": [],
      "metadata": {
        "id": "exvjYFEVXs59"
      },
      "execution_count": null,
      "outputs": []
    }
  ]
}