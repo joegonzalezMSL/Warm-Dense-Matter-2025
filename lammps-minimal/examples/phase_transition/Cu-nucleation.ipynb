{
  "nbformat": 4,
  "nbformat_minor": 0,
  "metadata": {
    "colab": {
      "provenance": [],
      "authorship_tag": "ABX9TyP2BD8bQTSK0JFpWQTtNHAE",
      "include_colab_link": true
    },
    "kernelspec": {
      "name": "python3",
      "display_name": "Python 3"
    },
    "language_info": {
      "name": "python"
    }
  },
  "cells": [
    {
      "cell_type": "markdown",
      "metadata": {
        "id": "view-in-github",
        "colab_type": "text"
      },
      "source": [
        "<a href=\"https://colab.research.google.com/github/joegonzalezMSL/Warm-Dense-Matter-2025/blob/main/lammps-minimal/examples/phase_transition/Cu-nucleation.ipynb\" target=\"_parent\"><img src=\"https://colab.research.google.com/assets/colab-badge.svg\" alt=\"Open In Colab\"/></a>"
      ]
    },
    {
      "cell_type": "code",
      "execution_count": 2,
      "metadata": {
        "colab": {
          "base_uri": "https://localhost:8080/"
        },
        "id": "P-cYfDMvVIuk",
        "outputId": "a2a0ca92-52eb-471d-dfd8-416a55fdecf6"
      },
      "outputs": [
        {
          "output_type": "stream",
          "name": "stdout",
          "text": [
            "Reading package lists...\n",
            "Building dependency tree...\n",
            "Reading state information...\n",
            "The following additional packages will be installed:\n",
            "  fonts-mathjax lammps-data lammps-doc lammps-examples libfftw3-double3\n",
            "  libjs-mathjax libkim-api2 liblammps0 libvoro++1\n",
            "Suggested packages:\n",
            "  openkim-models libfftw3-bin libfftw3-dev fonts-mathjax-extras fonts-stix\n",
            "  libjs-mathjax-doc\n",
            "The following NEW packages will be installed:\n",
            "  fonts-mathjax lammps lammps-data lammps-doc lammps-examples libfftw3-double3\n",
            "  libjs-mathjax libkim-api2 liblammps0 libvoro++1\n",
            "0 upgraded, 10 newly installed, 0 to remove and 35 not upgraded.\n",
            "Need to get 66.2 MB of archives.\n",
            "After this operation, 278 MB of additional disk space will be used.\n",
            "Get:1 http://archive.ubuntu.com/ubuntu jammy/main amd64 fonts-mathjax all 2.7.9+dfsg-1 [2,208 kB]\n",
            "Get:2 http://archive.ubuntu.com/ubuntu jammy/universe amd64 lammps-data all 20220106.git7586adbb6a+ds1-2 [9,729 kB]\n",
            "Get:3 http://archive.ubuntu.com/ubuntu jammy/universe amd64 lammps-examples all 20220106.git7586adbb6a+ds1-2 [33.7 MB]\n",
            "Get:4 http://archive.ubuntu.com/ubuntu jammy/main amd64 libfftw3-double3 amd64 3.3.8-2ubuntu8 [770 kB]\n",
            "Get:5 http://archive.ubuntu.com/ubuntu jammy/universe amd64 libkim-api2 amd64 2.2.1-1 [554 kB]\n",
            "Get:6 http://archive.ubuntu.com/ubuntu jammy/universe amd64 libvoro++1 amd64 0.5+revert-to-0.4.6+dfsg1-1 [119 kB]\n",
            "Get:7 http://archive.ubuntu.com/ubuntu jammy/universe amd64 liblammps0 amd64 20220106.git7586adbb6a+ds1-2 [3,650 kB]\n",
            "Get:8 http://archive.ubuntu.com/ubuntu jammy/universe amd64 lammps amd64 20220106.git7586adbb6a+ds1-2 [14.7 kB]\n",
            "Get:9 http://archive.ubuntu.com/ubuntu jammy/main amd64 libjs-mathjax all 2.7.9+dfsg-1 [5,665 kB]\n",
            "Get:10 http://archive.ubuntu.com/ubuntu jammy/universe amd64 lammps-doc all 20220106.git7586adbb6a+ds1-2 [9,786 kB]\n",
            "Fetched 66.2 MB in 1s (72.7 MB/s)\n",
            "Selecting previously unselected package fonts-mathjax.\n",
            "(Reading database ... 126371 files and directories currently installed.)\n",
            "Preparing to unpack .../0-fonts-mathjax_2.7.9+dfsg-1_all.deb ...\n",
            "Unpacking fonts-mathjax (2.7.9+dfsg-1) ...\n",
            "Selecting previously unselected package lammps-data.\n",
            "Preparing to unpack .../1-lammps-data_20220106.git7586adbb6a+ds1-2_all.deb ...\n",
            "Unpacking lammps-data (20220106.git7586adbb6a+ds1-2) ...\n",
            "Selecting previously unselected package lammps-examples.\n",
            "Preparing to unpack .../2-lammps-examples_20220106.git7586adbb6a+ds1-2_all.deb ...\n",
            "Unpacking lammps-examples (20220106.git7586adbb6a+ds1-2) ...\n",
            "Selecting previously unselected package libfftw3-double3:amd64.\n",
            "Preparing to unpack .../3-libfftw3-double3_3.3.8-2ubuntu8_amd64.deb ...\n",
            "Unpacking libfftw3-double3:amd64 (3.3.8-2ubuntu8) ...\n",
            "Selecting previously unselected package libkim-api2:amd64.\n",
            "Preparing to unpack .../4-libkim-api2_2.2.1-1_amd64.deb ...\n",
            "Unpacking libkim-api2:amd64 (2.2.1-1) ...\n",
            "Selecting previously unselected package libvoro++1.\n",
            "Preparing to unpack .../5-libvoro++1_0.5+revert-to-0.4.6+dfsg1-1_amd64.deb ...\n",
            "Unpacking libvoro++1 (0.5+revert-to-0.4.6+dfsg1-1) ...\n",
            "Selecting previously unselected package liblammps0:amd64.\n",
            "Preparing to unpack .../6-liblammps0_20220106.git7586adbb6a+ds1-2_amd64.deb ...\n",
            "Unpacking liblammps0:amd64 (20220106.git7586adbb6a+ds1-2) ...\n",
            "Selecting previously unselected package lammps.\n",
            "Preparing to unpack .../7-lammps_20220106.git7586adbb6a+ds1-2_amd64.deb ...\n",
            "Unpacking lammps (20220106.git7586adbb6a+ds1-2) ...\n",
            "Selecting previously unselected package libjs-mathjax.\n",
            "Preparing to unpack .../8-libjs-mathjax_2.7.9+dfsg-1_all.deb ...\n",
            "Unpacking libjs-mathjax (2.7.9+dfsg-1) ...\n",
            "Selecting previously unselected package lammps-doc.\n",
            "Preparing to unpack .../9-lammps-doc_20220106.git7586adbb6a+ds1-2_all.deb ...\n",
            "Unpacking lammps-doc (20220106.git7586adbb6a+ds1-2) ...\n",
            "Setting up fonts-mathjax (2.7.9+dfsg-1) ...\n",
            "Setting up libjs-mathjax (2.7.9+dfsg-1) ...\n",
            "Setting up lammps-data (20220106.git7586adbb6a+ds1-2) ...\n",
            "Setting up libkim-api2:amd64 (2.2.1-1) ...\n",
            "Setting up lammps-examples (20220106.git7586adbb6a+ds1-2) ...\n",
            "Setting up lammps-doc (20220106.git7586adbb6a+ds1-2) ...\n",
            "Setting up libfftw3-double3:amd64 (3.3.8-2ubuntu8) ...\n",
            "Setting up libvoro++1 (0.5+revert-to-0.4.6+dfsg1-1) ...\n",
            "Setting up liblammps0:amd64 (20220106.git7586adbb6a+ds1-2) ...\n",
            "Setting up lammps (20220106.git7586adbb6a+ds1-2) ...\n",
            "Processing triggers for libc-bin (2.35-0ubuntu3.8) ...\n",
            "/sbin/ldconfig.real: /usr/local/lib/libtbbbind.so.3 is not a symbolic link\n",
            "\n",
            "/sbin/ldconfig.real: /usr/local/lib/libur_adapter_level_zero_v2.so.0 is not a symbolic link\n",
            "\n",
            "/sbin/ldconfig.real: /usr/local/lib/libtcm_debug.so.1 is not a symbolic link\n",
            "\n",
            "/sbin/ldconfig.real: /usr/local/lib/libur_adapter_level_zero.so.0 is not a symbolic link\n",
            "\n",
            "/sbin/ldconfig.real: /usr/local/lib/libhwloc.so.15 is not a symbolic link\n",
            "\n",
            "/sbin/ldconfig.real: /usr/local/lib/libur_adapter_opencl.so.0 is not a symbolic link\n",
            "\n",
            "/sbin/ldconfig.real: /usr/local/lib/libtbb.so.12 is not a symbolic link\n",
            "\n",
            "/sbin/ldconfig.real: /usr/local/lib/libtbbmalloc_proxy.so.2 is not a symbolic link\n",
            "\n",
            "/sbin/ldconfig.real: /usr/local/lib/libumf.so.0 is not a symbolic link\n",
            "\n",
            "/sbin/ldconfig.real: /usr/local/lib/libur_loader.so.0 is not a symbolic link\n",
            "\n",
            "/sbin/ldconfig.real: /usr/local/lib/libtcm.so.1 is not a symbolic link\n",
            "\n",
            "/sbin/ldconfig.real: /usr/local/lib/libtbbmalloc.so.2 is not a symbolic link\n",
            "\n",
            "/sbin/ldconfig.real: /usr/local/lib/libtbbbind_2_0.so.3 is not a symbolic link\n",
            "\n",
            "/sbin/ldconfig.real: /usr/local/lib/libtbbbind_2_5.so.3 is not a symbolic link\n",
            "\n",
            "Processing triggers for man-db (2.10.2-1) ...\n",
            "Processing triggers for fontconfig (2.13.1-4.2ubuntu5) ...\n"
          ]
        }
      ],
      "source": [
        "!apt-get -q install lammps"
      ]
    },
    {
      "cell_type": "code",
      "source": [
        "\n",
        "# --- CONFIG ---\n",
        "REPO_URL = \"https://github.com/joegonzalezMSL/Warm-Dense-Matter-2025.git\"\n",
        "BRANCH   = \"main\"\n",
        "# --- CLONE ---\n",
        "!rm -rf /content/*\n",
        "!git clone -b \"$BRANCH\" \"$REPO_URL\" /content/repo\n",
        "\n",
        "# --- GO INTO REPO ---\n",
        "%cd /content/repo/lammps-minimal/examples/phase_transition/"
      ],
      "metadata": {
        "colab": {
          "base_uri": "https://localhost:8080/"
        },
        "id": "JYl-K5obWTYL",
        "outputId": "db710fba-b8bb-43e7-84ce-981a0e1374bf"
      },
      "execution_count": 3,
      "outputs": [
        {
          "output_type": "stream",
          "name": "stdout",
          "text": [
            "Cloning into '/content/repo'...\n",
            "remote: Enumerating objects: 182, done.\u001b[K\n",
            "remote: Counting objects: 100% (182/182), done.\u001b[K\n",
            "remote: Compressing objects: 100% (168/168), done.\u001b[K\n",
            "remote: Total 182 (delta 65), reused 0 (delta 0), pack-reused 0 (from 0)\u001b[K\n",
            "Receiving objects: 100% (182/182), 602.43 KiB | 4.02 MiB/s, done.\n",
            "Resolving deltas: 100% (65/65), done.\n",
            "/content/repo/lammps-minimal/examples/phase_transition\n"
          ]
        }
      ]
    },
    {
      "cell_type": "code",
      "source": [
        "!pwd"
      ],
      "metadata": {
        "colab": {
          "base_uri": "https://localhost:8080/"
        },
        "id": "s0YMJpDEWuLs",
        "outputId": "ca9fb80b-d566-45df-c472-2b45dd2c9afb"
      },
      "execution_count": 4,
      "outputs": [
        {
          "output_type": "stream",
          "name": "stdout",
          "text": [
            "/content/repo/lammps-minimal/examples/phase_transition\n"
          ]
        }
      ]
    },
    {
      "cell_type": "code",
      "source": [
        "!lmp -h | head -n2 |tail -1"
      ],
      "metadata": {
        "colab": {
          "base_uri": "https://localhost:8080/"
        },
        "id": "ZswKDxpbVZV-",
        "outputId": "d6b2566c-f727-4c7c-8ed6-df84be304859"
      },
      "execution_count": 5,
      "outputs": [
        {
          "output_type": "stream",
          "name": "stdout",
          "text": [
            "Large-scale Atomic/Molecular Massively Parallel Simulator - 29 Sep 2021 - Update 2\n"
          ]
        }
      ]
    },
    {
      "cell_type": "markdown",
      "source": [
        "# Phase Transition\n",
        "We study crystallization in a supercooled copper liquid, focusing on homogeneous nucleation as the escape from metastability and showing how cooling rate dictates supercooling depth and the liquid–solid transition.\n",
        "\n",
        "# Crystallization of A Supercooled Liquid Copper\n",
        "\n",
        "I. Stable and Metastable Phases\n",
        "\n",
        "1.   List item\n",
        "2.   List item\n",
        "\n",
        "\n",
        "A stable phase is a state of matter (solid, liquid, or gas) where the system has minimized its free energy at a given temperature and pressure. At equilibrium, the system has no net tendency to change its phase.\n",
        "Sometimes, a system can exist in a state that is not the most stable but persists for some time. This is called a metastable phase. For example, liquid water can exist below its normal freezing point without crystallizing—this is known as supercooling.\n",
        "Thus, supercooling occurs when a liquid is cooled below its equilibrium freezing temperature but does not immediately crystallize. The farther the system is from equilibrium, the more unstable the metastable state becomes. Eventually, the system undergoes a phase transition to the more stable phase—here, the solid.\n",
        "The lifetime of the metastable supercooled state decreases as the system moves further below the equilibrium temperature, eventually leading to nucleation of the solid phase.\n",
        "\n",
        "II. Nucleation Fundamentals\n",
        "When a liquid is cooled below its equilibrium freezing point, crystallization does not begin instantly. Instead, the transition to the solid phase starts with the formation of small crystalline clusters within the liquid. This process is called nucleation.\n",
        "At first, atoms in the liquid may come together and form tiny crystalline embryos. However, most of these are unstable and dissolve back into the liquid. Only when a cluster reaches a certain size — called the critical nucleus size — does it become stable enough to keep growing. Below this size, surface effects dominate and the cluster is more likely to disappear; above this size, the reduction in energy from forming a solid outweighs the cost of creating new surfaces, and the nucleus grows spontaneously.\n",
        "Nucleation reflects a balance between two competing free-energy contributions: the bulk term, which stabilizes the solid and drives growth, and the surface term, which penalizes the creation of a new interface. The balance between these two determines the critical size.\n",
        "The nucleation rate — how quickly new solid clusters appear — depends strongly on temperature, or in other words, on supercoolings. Just below the melting point, the driving force for crystallization is small, so nucleation is very slow. As the liquid is cooled further, the driving force increases and nucleation becomes more likely. Important: if the system is cooled too quickly, atoms may not have enough time to rearrange into crystalline order, and the liquid can bypass nucleation, remaining in a metastable supercooled state or becoming an amorphous solid (glass).\n",
        "Two types of nucleation can occur: (1) Homogeneous nucleation: Nuclei form randomly in the bulk liquid; (2) Heterogeneous nucleation: Nuclei form preferentially at surfaces, impurities, or defects, which lower the energy barrier and make nucleation easier. In practice, heterogeneous nucleation is far more common in real systems.\n",
        "Once a stable nucleus forms, the process enters the growth stage, where atoms from the surrounding liquid attach to the solid cluster, and the crystal expands until the system transforms to the stable phase.\n",
        "\n",
        "III. Molecular Dynamics Simulation\n",
        "We use a reliable model for copper to explore its supercooled state and observe homogeneous, spontaneous crystal nucleation. The procedure is simple: we first heat a crystalline sample well above its melting temperature to ensure complete melting, and then cool it back down.\n",
        "In the simulation, the main indicators of nucleation are: (1) A sudden drop in potential energy — this happens because atoms in the liquid adopt the more energetically favorable crystalline arrangement; (2) The emergence of ordered structures — initially small, but once stable nuclei form, they grow into a crystalline phase."
      ],
      "metadata": {
        "id": "Rg1-i0qyViCK"
      }
    },
    {
      "cell_type": "code",
      "source": [
        "lammps_input = \"\"\"\n",
        "# ----------------------------------\n",
        "# LAMMPS script: Cu Supercooling\n",
        "# ----------------------------------\n",
        "\n",
        "# 1. Initialize simulation\n",
        "units metal\n",
        "dimension 3\n",
        "boundary p p p\n",
        "atom_style atomic\n",
        "\n",
        "# 2. Create FCC crystal\n",
        "lattice fcc 3.615\n",
        "region box block 0 5 0 5 0 5\n",
        "create_box 1 box\n",
        "create_atoms 1 box\n",
        "\n",
        "# 3. Define an interatomic potential: EAM for Cu\n",
        "pair_style eam/alloy\n",
        "pair_coeff \t\t* * /content/Warm-Dense-Matter-2025/lammps-minimal/potential/Cu_zhou.eam.alloy Cu\n",
        "\n",
        "# 4. Neighbor list settings\n",
        "neighbor 2.0 bin\n",
        "neigh_modify delay 10\n",
        "\n",
        "# 5. Output settings\n",
        "thermo 100\n",
        "thermo_style custom step temp press pe etotal\n",
        "dump myDump all custom 100 dump_cu.lammpstrj id x y z\n",
        "\n",
        "# 6. Equilibrate at high T to melt\n",
        "velocity all create 2000 12345 mom yes rot yes\n",
        "fix melt all npt temp 2000 2000 0.1 iso 0 0 1.0\n",
        "run 1000\n",
        "unfix melt\n",
        "\n",
        "# -----------------------------\n",
        "# 7. Cooling\n",
        "# -----------------------------\n",
        "variable Tstart equal 2300      # Start temperature (K)\n",
        "variable Tend equal 300         # End temperature (K)\n",
        "\n",
        "fix cool all npt temp ${Tstart} ${Tend} 0.1 iso 0 0 1.0\n",
        "\n",
        "run 2000  # adjust to control final T and cooling rate\n",
        "\n",
        "unfix cool\n",
        "\n",
        "# -----------------------------\n",
        "# 8. Save final configuration\n",
        "# -----------------------------\n",
        "write_data cu_final.data\n",
        "\n",
        "# -----------------------------\n",
        "# 9. Data analysis\n",
        "# -----------------------------\n",
        "# After the run, you can plot:\n",
        "# 1. Temperature vs. Step: column 2 in thermo output\n",
        "# 2. Pressure vs. Step: column 3\n",
        "# 3. Potential energy vs. Step: column 4\n",
        "# Example: using gnuplot:\n",
        "# gnuplot> plot 'log.lammps' using 1:2 with lines title 'Temperature'\n",
        "# -----------------------------\n",
        "\"\"\"\n",
        "with open(\"npt.in\",'w') as f:\n",
        "  f.write(lammps_input)\n",
        "\n"
      ],
      "metadata": {
        "id": "k9C539T3VhGr"
      },
      "execution_count": 6,
      "outputs": []
    },
    {
      "cell_type": "code",
      "source": [
        "!lmp -in npt.in"
      ],
      "metadata": {
        "colab": {
          "base_uri": "https://localhost:8080/"
        },
        "id": "r0lEn42wWDzj",
        "outputId": "84b95fbe-b0e6-4308-a5e5-f23b82b7e375"
      },
      "execution_count": 7,
      "outputs": [
        {
          "output_type": "stream",
          "name": "stdout",
          "text": [
            "LAMMPS (29 Sep 2021 - Update 2)\n",
            "OMP_NUM_THREADS environment is not set. Defaulting to 1 thread. (src/comm.cpp:98)\n",
            "  using 1 OpenMP thread(s) per MPI task\n",
            "Lattice spacing in x,y,z = 3.6150000 3.6150000 3.6150000\n",
            "Created orthogonal box = (0.0000000 0.0000000 0.0000000) to (18.075000 18.075000 18.075000)\n",
            "  1 by 1 by 1 MPI processor grid\n",
            "Created 500 atoms\n",
            "  using lattice units in orthogonal box = (0.0000000 0.0000000 0.0000000) to (18.075000 18.075000 18.075000)\n",
            "  create_atoms CPU = 0.000 seconds\n",
            "Reading eam/alloy potential file /content/Warm-Dense-Matter-2025/lammps-minimal/potential/Cu_zhou.eam.alloy with DATE: 2007-10-12\n",
            "Neighbor list info ...\n",
            "  update every 1 steps, delay 10 steps, check yes\n",
            "  max neighbors/atom: 2000, page size: 100000\n",
            "  master list distance cutoff = 11.0375\n",
            "  ghost atom cutoff = 11.0375\n",
            "  binsize = 5.51875, bins = 4 4 4\n",
            "  1 neighbor lists, perpetual/occasional/extra = 1 0 0\n",
            "  (1) pair eam/alloy, perpetual\n",
            "      attributes: half, newton on\n",
            "      pair build: half/bin/atomonly/newton\n",
            "      stencil: half/bin/3d\n",
            "      bin: standard\n",
            "Setting up Verlet run ...\n",
            "  Unit style    : metal\n",
            "  Current step  : 0\n",
            "  Time step     : 0.001\n",
            "Per MPI rank memory allocation (min/avg/max) = 5.251 | 5.251 | 5.251 Mbytes\n",
            "Step Temp Press PotEng TotEng \n",
            "       0         2000    23119.337   -1769.9017   -1640.9001 \n",
            "     100    819.47241    23481.855   -1687.5925   -1634.7358 \n",
            "     200    1065.9517   -13468.204   -1681.3595   -1612.6047 \n",
            "     300    1238.2453   -13492.583   -1664.7871   -1584.9193 \n",
            "     400    1525.0348    920.44664   -1652.6195   -1554.2535 \n",
            "     500    1808.7289    13231.596   -1638.5328   -1521.8683 \n",
            "     600    1825.8516    14879.124   -1610.9723   -1493.2034 \n",
            "     700     1904.523    3738.5639   -1589.7123    -1466.869 \n",
            "     800    1962.1388   -4053.6655   -1568.1504   -1441.5908 \n",
            "     900    2123.2735   -7591.1712   -1556.4844   -1419.5315 \n",
            "    1000    2093.8976   -2328.9616   -1541.3592   -1406.3011 \n",
            "Loop time of 3.8388 on 1 procs for 1000 steps with 500 atoms\n",
            "\n",
            "Performance: 22.507 ns/day, 1.066 hours/ns, 260.498 timesteps/s\n",
            "99.8% CPU use with 1 MPI tasks x 1 OpenMP threads\n",
            "\n",
            "MPI task timing breakdown:\n",
            "Section |  min time  |  avg time  |  max time  |%varavg| %total\n",
            "---------------------------------------------------------------\n",
            "Pair    | 3.7517     | 3.7517     | 3.7517     |   0.0 | 97.73\n",
            "Neigh   | 0.036719   | 0.036719   | 0.036719   |   0.0 |  0.96\n",
            "Comm    | 0.019352   | 0.019352   | 0.019352   |   0.0 |  0.50\n",
            "Output  | 0.0059392  | 0.0059392  | 0.0059392  |   0.0 |  0.15\n",
            "Modify  | 0.02088    | 0.02088    | 0.02088    |   0.0 |  0.54\n",
            "Other   |            | 0.004198   |            |       |  0.11\n",
            "\n",
            "Nlocal:        500.000 ave         500 max         500 min\n",
            "Histogram: 1 0 0 0 0 0 0 0 0 0\n",
            "Nghost:        4416.00 ave        4416 max        4416 min\n",
            "Histogram: 1 0 0 0 0 0 0 0 0 0\n",
            "Neighs:        97754.0 ave       97754 max       97754 min\n",
            "Histogram: 1 0 0 0 0 0 0 0 0 0\n",
            "\n",
            "Total # of neighbors = 97754\n",
            "Ave neighs/atom = 195.50800\n",
            "Neighbor list builds = 15\n",
            "Dangerous builds = 0\n",
            "Setting up Verlet run ...\n",
            "  Unit style    : metal\n",
            "  Current step  : 1000\n",
            "  Time step     : 0.001\n",
            "Per MPI rank memory allocation (min/avg/max) = 5.251 | 5.251 | 5.251 Mbytes\n",
            "Step Temp Press PotEng TotEng \n",
            "    1000    2093.8976   -2328.9616   -1541.3592   -1406.3011 \n",
            "    1100    2091.1047    5005.1051   -1531.5494   -1396.6714 \n",
            "    1200    2173.9253    4991.3474   -1530.4345   -1390.2146 \n",
            "    1300    2112.8635   -3442.6808    -1532.271   -1395.9896 \n",
            "    1400    1991.0152   -10997.077    -1537.429   -1409.0069 \n",
            "    1500    1963.7865    -9206.124   -1547.5736   -1420.9077 \n",
            "    1600    1909.6274    470.88724   -1557.3807   -1434.2082 \n",
            "    1700    1817.1708    6060.0781   -1566.1678   -1448.9588 \n",
            "    1800    1646.7489    6041.6845   -1571.7291   -1465.5125 \n",
            "    1900    1556.6331   -1847.1226   -1580.5021    -1480.098 \n",
            "    2000    1476.7621   -8548.3954   -1588.8692   -1493.6168 \n",
            "    2100    1331.1788    -7370.621   -1593.2431    -1507.381 \n",
            "    2200    1281.9412   -4243.3946   -1603.9207   -1521.2344 \n",
            "    2300    1205.4588   -1160.8134   -1614.5522   -1536.7991 \n",
            "    2400    1088.9366    2584.1546   -1623.9888   -1553.7515 \n",
            "    2500    929.79778    3671.5333   -1628.9276   -1568.9549 \n",
            "    2600    864.72275   -1254.2316   -1640.0944   -1584.3191 \n",
            "    2700    771.28973   -5205.0527   -1649.7474   -1599.9986 \n",
            "    2800    676.32809   -3946.1118   -1658.0548   -1614.4311 \n",
            "    2900    581.45894    210.34043   -1666.8075   -1629.3029 \n",
            "    3000    489.87717    2582.4686   -1675.4905    -1643.893 \n",
            "Loop time of 8.04445 on 1 procs for 2000 steps with 500 atoms\n",
            "\n",
            "Performance: 21.481 ns/day, 1.117 hours/ns, 248.619 timesteps/s\n",
            "99.2% CPU use with 1 MPI tasks x 1 OpenMP threads\n",
            "\n",
            "MPI task timing breakdown:\n",
            "Section |  min time  |  avg time  |  max time  |%varavg| %total\n",
            "---------------------------------------------------------------\n",
            "Pair    | 7.8539     | 7.8539     | 7.8539     |   0.0 | 97.63\n",
            "Neigh   | 0.078017   | 0.078017   | 0.078017   |   0.0 |  0.97\n",
            "Comm    | 0.043593   | 0.043593   | 0.043593   |   0.0 |  0.54\n",
            "Output  | 0.013341   | 0.013341   | 0.013341   |   0.0 |  0.17\n",
            "Modify  | 0.046303   | 0.046303   | 0.046303   |   0.0 |  0.58\n",
            "Other   |            | 0.009282   |            |       |  0.12\n",
            "\n",
            "Nlocal:        500.000 ave         500 max         500 min\n",
            "Histogram: 1 0 0 0 0 0 0 0 0 0\n",
            "Nghost:        4855.00 ave        4855 max        4855 min\n",
            "Histogram: 1 0 0 0 0 0 0 0 0 0\n",
            "Neighs:        113469.0 ave      113469 max      113469 min\n",
            "Histogram: 1 0 0 0 0 0 0 0 0 0\n",
            "\n",
            "Total # of neighbors = 113469\n",
            "Ave neighs/atom = 226.93800\n",
            "Neighbor list builds = 31\n",
            "Dangerous builds = 0\n",
            "System init for write_data ...\n",
            "Total wall time: 0:00:11\n"
          ]
        }
      ]
    },
    {
      "cell_type": "markdown",
      "source": [
        "## 4. Homework\n",
        "Modify the cooling rate in the LAMMPS input file:\n",
        "\n",
        "1.   Slow down the cooling by factors of 10 and 100.\n",
        "2.   Speed it up by a factor of 10 and 100.\n",
        "\n",
        "For each case, analyze the potential energy as a function of time. Compare how the cooling rate influences the onset of crystallization, the degree of supercooling reached, and the sharpness of the energy drop. Summarize your findings and explain how the rate of cooling controls the balance between remaining in the metastable liquid state and transitioning to the crystalline solid."
      ],
      "metadata": {
        "id": "3tkjdN5FXmKT"
      }
    },
    {
      "cell_type": "code",
      "source": [],
      "metadata": {
        "id": "exvjYFEVXs59"
      },
      "execution_count": null,
      "outputs": []
    }
  ]
}