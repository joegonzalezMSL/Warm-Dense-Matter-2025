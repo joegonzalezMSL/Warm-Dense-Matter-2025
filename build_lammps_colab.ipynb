{
 "cells": [
  {
   "cell_type": "markdown",
   "id": "2606c0f7-b385-4b6a-a290-6d9e24a3baf2",
   "metadata": {},
   "source": [
    "## Setup your environment to build LAMMPS"
   ]
  },
  {
   "cell_type": "code",
   "execution_count": null,
   "id": "a4c681aa-3f74-4e95-b1f6-6d5c83f891d0",
   "metadata": {},
   "outputs": [],
   "source": [
    "!apt install cmake build-essential git ccache"
   ]
  },
  {
   "cell_type": "markdown",
   "id": "d1c6bfb9-1f5f-4c03-a3e3-91a3dd0ceb2a",
   "metadata": {},
   "source": [
    "## Download and Compile LAMMPS\n",
    "\n",
    "This compiles LAMMPS with a minimal set of options. To add more packages, add more options.\n",
    "\n",
    "CMAKE_CXX_COMPILER_LAUNCHER=ccache: Caches compilation results with ccache. Subsequent compilations will be faster in case you only add more packages.\n",
    "\n",
    "BUILD_SHARED_LIBS: Builds LAMMPS as shared library. This is necessary for loading it in Python\n",
    "\n",
    "LAMMPS_EXCEPTIONS: LAMMPS normally kills the parent process if an error occurs. This would stop the Notebook kernel. By enabling LAMMPS_EXCEPTIONS only C++ exceptions are thrown, which are then turned into Python exceptions. Note, your LAMMPS instance will very likely still be in a bad state and you will have to create a new on. But you will at least know what happened. :-)\n",
    "\n",
    "PKG_PYTHON: enable the PYTHON package\n"
   ]
  },
  {
   "cell_type": "code",
   "execution_count": null,
   "id": "6ef359f9-5c77-4a72-8e38-cea2b9d9e363",
   "metadata": {},
   "outputs": [],
   "source": [
    "!apt-get install -y -qq lammps"
   ]
  },
  {
   "cell_type": "code",
   "execution_count": null,
   "id": "709c4b69-a696-48f9-9d06-0150a5ffffe1",
   "metadata": {},
   "outputs": [],
   "source": [
    "!git clone -b stable --depth=1 https://github.com/lammps/lammps.git lammps"
   ]
  },
  {
   "cell_type": "code",
   "execution_count": null,
   "id": "4baa19b8-fdac-4490-95dc-85e59f234c41",
   "metadata": {},
   "outputs": [],
   "source": []
  }
 ],
 "metadata": {
  "kernelspec": {
   "display_name": "Python 3 (ipykernel)",
   "language": "python",
   "name": "python3"
  },
  "language_info": {
   "codemirror_mode": {
    "name": "ipython",
    "version": 3
   },
   "file_extension": ".py",
   "mimetype": "text/x-python",
   "name": "python",
   "nbconvert_exporter": "python",
   "pygments_lexer": "ipython3",
   "version": "3.12.4"
  }
 },
 "nbformat": 4,
 "nbformat_minor": 5
}
