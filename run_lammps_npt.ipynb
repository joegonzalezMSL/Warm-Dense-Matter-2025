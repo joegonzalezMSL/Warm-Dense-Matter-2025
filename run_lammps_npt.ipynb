{
 "cells": [
  {
   "cell_type": "markdown",
   "id": "2606c0f7-b385-4b6a-a290-6d9e24a3baf2",
   "metadata": {},
   "source": [
    "### Setup your environment to install LAMMPS "
   ]
  },
  {
   "cell_type": "code",
   "execution_count": null,
   "id": "a4c681aa-3f74-4e95-b1f6-6d5c83f891d0",
   "metadata": {},
   "outputs": [],
   "source": [
    "!apt-get update -qq\n",
    "!apt-get install -y -qq lammps"
   ]
  },
  {
   "cell_type": "markdown",
   "id": "51af4462-afbe-4491-a2ca-855a07d74405",
   "metadata": {},
   "source": [
    "### Install a python package to display the thermodynamic data from a run"
   ]
  },
  {
   "cell_type": "code",
   "execution_count": null,
   "id": "e2bfe93e-6e46-448e-adde-1b51901ebe9f",
   "metadata": {},
   "outputs": [],
   "source": [
    "!pip install lammps-logfile"
   ]
  },
  {
   "cell_type": "markdown",
   "id": "3253e68d-4094-4ce4-9714-59a35b199276",
   "metadata": {},
   "source": [
    "### Clone the repo containing examples"
   ]
  },
  {
   "cell_type": "code",
   "execution_count": null,
   "id": "956f637b-c077-4b41-a1d5-95466c45b278",
   "metadata": {},
   "outputs": [],
   "source": [
    "!git clone https://github.com/joegonzalezMSL/Warm-Dense-Matter-2025.git"
   ]
  },
  {
   "cell_type": "markdown",
   "id": "0c24c879-432b-47b2-8e1b-55a5ef35463c",
   "metadata": {},
   "source": [
    "### Run LAMMPS for the NPT ensemble of Cu at 20 GPa and 300K"
   ]
  },
  {
   "cell_type": "code",
   "execution_count": null,
   "id": "1dddc6ca-faae-4006-a836-c26bb1dc6cf6",
   "metadata": {},
   "outputs": [],
   "source": [
    "!lmp -in Warm-Dense-Matter-2025/LAMMPS/examples/hugoniot/npt.lmp"
   ]
  },
  {
   "cell_type": "markdown",
   "id": "a632e24c-de8d-4812-94f1-788cc00f207f",
   "metadata": {},
   "source": [
    "### Use the previously installed python package to display thermodynamic data\n",
    "Adjust the values in the get method to diaply different data\\\n",
    "Some options are Time, Temp, PotEng, KinEng, TotEng, Press, Volume, Density and c_MSD[4]"
   ]
  },
  {
   "cell_type": "code",
   "execution_count": null,
   "id": "4baa19b8-fdac-4490-95dc-85e59f234c41",
   "metadata": {},
   "outputs": [],
   "source": [
    "import lammps_logfile\n",
    "import matplotlib.pyplot as plt\n",
    "\n",
    "\n",
    "log = lammps_logfile.File(\"log.lammps\")\n",
    "\n",
    "x = log.get(\"Time\")\n",
    "y = log.get(\"Temp\")\n",
    "plt.xlabel(\"Time (ps)\")\n",
    "plt.ylabel(\"Temperature (K)\")\n",
    "plt.title(\"Cu - NPT 300K\")\n",
    "\n",
    "plt.plot(x, y)\n",
    "plt.show()"
   ]
  },
  {
   "cell_type": "code",
   "execution_count": null,
   "id": "4706983b-4612-4b98-b35a-4d1c8375ec67",
   "metadata": {},
   "outputs": [],
   "source": [
    "import matplotlib.pyplot as plt\n",
    "import numpy as np\n",
    "\n",
    "# Load the data from the file (assuming space-separated values)\n",
    "data = np.loadtxt('profile-10000-.dat', usecols=(0, 2))  # Read only the first two columns (Z and Pzz)\n",
    "\n",
    "# Extract Z (1st column) and Pzz (2nd column)\n",
    "z = data[:, 0]\n",
    "pzz = data[:, 1]\n",
    "\n",
    "# Create the plot\n",
    "plt.figure(figsize=(8, 6))\n",
    "plt.plot(z, pzz, marker='o', linestyle='-', color='b', label='Pzz vs Z')\n",
    "plt.xlabel('Z')\n",
    "plt.ylabel('Pzz')\n",
    "plt.title('Plot of Pzz vs Z')\n",
    "plt.grid(True)\n",
    "plt.legend()\n",
    "\n",
    "# Show the plot\n",
    "plt.show()"
   ]
  }
 ],
 "metadata": {
  "kernelspec": {
   "display_name": "Python 3 (ipykernel)",
   "language": "python",
   "name": "python3"
  },
  "language_info": {
   "codemirror_mode": {
    "name": "ipython",
    "version": 3
   },
   "file_extension": ".py",
   "mimetype": "text/x-python",
   "name": "python",
   "nbconvert_exporter": "python",
   "pygments_lexer": "ipython3",
   "version": "3.12.4"
  }
 },
 "nbformat": 4,
 "nbformat_minor": 5
}
